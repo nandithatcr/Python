{
 "cells": [
  {
   "cell_type": "markdown",
   "id": "c4396d0a",
   "metadata": {},
   "source": [
    "# SERIES"
   ]
  },
  {
   "cell_type": "code",
   "execution_count": 3,
   "id": "bef464d1",
   "metadata": {},
   "outputs": [
    {
     "name": "stdout",
     "output_type": "stream",
     "text": [
      "0    10\n",
      "1    15\n",
      "2    18\n",
      "3    22\n",
      "dtype: int32\n"
     ]
    }
   ],
   "source": [
    "import numpy as np\n",
    "import pandas as pd\n",
    "arr =  np.array([10,15,18,22])\n",
    "s=pd.Series(arr)\n",
    "print(s)"
   ]
  },
  {
   "cell_type": "code",
   "execution_count": 3,
   "id": "ccdcf2c0",
   "metadata": {},
   "outputs": [
    {
     "name": "stdout",
     "output_type": "stream",
     "text": [
      "first     10\n",
      "second    15\n",
      "third     18\n",
      "fourth    22\n",
      "dtype: int32\n"
     ]
    }
   ],
   "source": [
    "import numpy as np\n",
    "import pandas as pd\n",
    "arr =  np.array([10,15,18,22])\n",
    "s=pd.Series(arr,index=['first','second','third','fourth'])\n",
    "print(s)"
   ]
  },
  {
   "cell_type": "code",
   "execution_count": 4,
   "id": "dfc53e31",
   "metadata": {},
   "outputs": [
    {
     "name": "stdout",
     "output_type": "stream",
     "text": [
      "first     50\n",
      "second    50\n",
      "third     50\n",
      "fourth    50\n",
      "dtype: int64\n"
     ]
    }
   ],
   "source": [
    "import numpy as np\n",
    "import pandas as pd\n",
    "s=pd.Series(50,index=['first','second','third','fourth'])\n",
    "print(s)"
   ]
  },
  {
   "cell_type": "code",
   "execution_count": 5,
   "id": "2a87ecb9",
   "metadata": {},
   "outputs": [
    {
     "name": "stdout",
     "output_type": "stream",
     "text": [
      "Name    Hardik\n",
      "Team        MI\n",
      "Runs       150\n",
      "dtype: object\n"
     ]
    }
   ],
   "source": [
    "d= {'Name':'Hardik','Team':'MI','Runs':150}\n",
    "s= pd.Series(d)\n",
    "print(s)"
   ]
  },
  {
   "cell_type": "code",
   "execution_count": 7,
   "id": "f241a00d",
   "metadata": {},
   "outputs": [
    {
     "name": "stdout",
     "output_type": "stream",
     "text": [
      "------Multliplication-------\n",
      "0    2\n",
      "1    4\n",
      "2    6\n",
      "3    8\n",
      "dtype: int64\n",
      "-----Power-----\n",
      "0     1\n",
      "1     4\n",
      "2     9\n",
      "3    16\n",
      "dtype: int64\n",
      "-----Greater Values-----\n",
      "2    3\n",
      "3    4\n",
      "dtype: int64\n"
     ]
    }
   ],
   "source": [
    "s=pd.Series([1,2,3,4])\n",
    "print(\"------Multliplication-------\")\n",
    "print(s*2)\n",
    "print(\"-----Power-----\")\n",
    "print(s**2)\n",
    "print('-----Greater Values-----')\n",
    "print(s[s>2])"
   ]
  },
  {
   "cell_type": "code",
   "execution_count": 15,
   "id": "04c0676b",
   "metadata": {},
   "outputs": [
    {
     "name": "stdout",
     "output_type": "stream",
     "text": [
      "Add s1 and s2\n",
      "a    11\n",
      "b    22\n",
      "c    33\n",
      "d    44\n",
      "e    55\n",
      "dtype: int64\n",
      "----------------------------\n",
      "Add s2 and s3\n",
      "a    15.0\n",
      "b    34.0\n",
      "c    53.0\n",
      "d    72.0\n",
      "e     NaN\n",
      "dtype: float64\n",
      "----------------------------\n",
      "Add s2 and s3 with non matching index with 0\n",
      "a    15.0\n",
      "b    34.0\n",
      "c    53.0\n",
      "d    72.0\n",
      "e    50.0\n",
      "dtype: float64\n"
     ]
    }
   ],
   "source": [
    "s1=pd.Series([1,2,3,4,5],index = ['a','b','c','d','e'])\n",
    "#s2=pd.Series([10,20,30,40,50],index=['p','q','r','s','t'])\n",
    "s2=pd.Series([10,20,30,40,50],index=['a','b','c','d','e'])\n",
    "s3= pd.Series([5,14,23,32],index=['a','b','c','d'])\n",
    "\n",
    "print(\"Add s1 and s2\")\n",
    "print(s1+s2)\n",
    "print(\"----------------------------\")\n",
    "print(\"Add s2 and s3\")\n",
    "print(s2+s3)\n",
    "print(\"----------------------------\")\n",
    "print('Add s2 and s3 with non matching index with 0')\n",
    "print(s2.add(s3, fill_value= 0))"
   ]
  },
  {
   "cell_type": "markdown",
   "id": "86fa222a",
   "metadata": {},
   "source": [
    "Points\n",
    "1) Default Addition (+): Combines Series based on matching indices, and non-matching indices result in NaN.\n",
    "2) .add() with fill_value: Fills missing indices with a specified value (e.g., 0) before performing the operation.\n",
    "3) Resulting Data Type: Operations involving NaN produce a float result, even if the original Series is of integer type."
   ]
  },
  {
   "cell_type": "markdown",
   "id": "abc38cfb",
   "metadata": {},
   "source": [
    "# Head And Tail Functions"
   ]
  },
  {
   "cell_type": "code",
   "execution_count": 19,
   "id": "14678eaa",
   "metadata": {},
   "outputs": [
    {
     "name": "stdout",
     "output_type": "stream",
     "text": [
      "-------Print first 5 elements--------\n",
      "0    10\n",
      "1    15\n",
      "2    18\n",
      "3    22\n",
      "4    55\n",
      "dtype: int32\n",
      "-----Print frst 3 elements-------\n",
      "0    10\n",
      "1    15\n",
      "2    18\n",
      "dtype: int32\n"
     ]
    }
   ],
   "source": [
    "arr = np.array([10,15,18,22,55,77,42,48,97])\n",
    "s=pd.Series(arr)\n",
    "print(\"-------Print first 5 elements--------\")\n",
    "print(s.head())\n",
    "print(\"-----Print frst 3 elements-------\")\n",
    "print(s.head(3))"
   ]
  },
  {
   "cell_type": "code",
   "execution_count": 20,
   "id": "6586ce4a",
   "metadata": {},
   "outputs": [
    {
     "name": "stdout",
     "output_type": "stream",
     "text": [
      "-------Print last 5 elements--------\n",
      "4    55\n",
      "5    77\n",
      "6    42\n",
      "7    48\n",
      "8    97\n",
      "dtype: int32\n",
      "-----Print last 3 elements-------\n",
      "6    42\n",
      "7    48\n",
      "8    97\n",
      "dtype: int32\n"
     ]
    }
   ],
   "source": [
    "arr = np.array([10,15,18,22,55,77,42,48,97])\n",
    "s=pd.Series(arr)\n",
    "print(\"-------Print last 5 elements--------\")\n",
    "print(s.tail())\n",
    "print(\"-----Print last 3 elements-------\")\n",
    "print(s.tail(3))"
   ]
  },
  {
   "cell_type": "markdown",
   "id": "32172d6c",
   "metadata": {},
   "source": [
    "# Selection in Series"
   ]
  },
  {
   "cell_type": "code",
   "execution_count": 22,
   "id": "98590107",
   "metadata": {},
   "outputs": [
    {
     "name": "stdout",
     "output_type": "stream",
     "text": [
      "0    10\n",
      "1    15\n",
      "2    18\n",
      "3    22\n",
      "4    55\n",
      "5    77\n",
      "dtype: int32\n",
      "0    10\n",
      "1    15\n",
      "2    18\n",
      "dtype: int32\n",
      "3    22\n",
      "4    55\n",
      "dtype: int32\n"
     ]
    },
    {
     "data": {
      "text/plain": [
       "2    18\n",
       "3    22\n",
       "dtype: int32"
      ]
     },
     "execution_count": 22,
     "metadata": {},
     "output_type": "execute_result"
    }
   ],
   "source": [
    "import pandas as pd\n",
    "import numpy as np\n",
    "arr = np.array([10,15,18,22,55,77])\n",
    "s= pd.Series(arr)\n",
    "print(s)\n",
    "print(s.loc[:2])\n",
    "print(s.loc[3:4])\n",
    "s.loc[2:3]"
   ]
  },
  {
   "cell_type": "code",
   "execution_count": 56,
   "id": "b592a6d3",
   "metadata": {},
   "outputs": [
    {
     "name": "stdout",
     "output_type": "stream",
     "text": [
      "0    10\n",
      "1    15\n",
      "2    18\n",
      "3    22\n",
      "4    55\n",
      "5    77\n",
      "dtype: int32\n",
      "0    10\n",
      "1    15\n",
      "dtype: int32\n",
      "3    22\n",
      "dtype: int32\n"
     ]
    },
    {
     "data": {
      "text/plain": [
       "2    18\n",
       "dtype: int32"
      ]
     },
     "execution_count": 56,
     "metadata": {},
     "output_type": "execute_result"
    }
   ],
   "source": [
    "import pandas as pd\n",
    "import numpy as np\n",
    "arr = np.array([10,15,18,22,55,77])\n",
    "s= pd.Series(arr)\n",
    "print(s)\n",
    "print(s.iloc[:2])\n",
    "print(s.iloc[3:4])\n",
    "s.iloc[2:3]"
   ]
  },
  {
   "cell_type": "code",
   "execution_count": 4,
   "id": "7ceaac81",
   "metadata": {},
   "outputs": [
    {
     "name": "stdout",
     "output_type": "stream",
     "text": [
      "a    10\n",
      "b    20\n",
      "c    30\n",
      "d    40\n",
      "dtype: int64\n",
      "a    10\n",
      "b    20\n",
      "c    30\n",
      "dtype: int64\n"
     ]
    }
   ],
   "source": [
    "data = {'A': [1, 2, 3], 'B': [4, 5, 6], 'C': [7, 8, 9]}\n",
    "s = pd.Series([10, 20, 30, 40], index=['a', 'b', 'c', 'd'])\n",
    "print(s)\n",
    "print(s.loc[:'c'])\n"
   ]
  },
  {
   "cell_type": "code",
   "execution_count": 5,
   "id": "9aaa3194",
   "metadata": {},
   "outputs": [
    {
     "name": "stdout",
     "output_type": "stream",
     "text": [
      "----------t------------\n",
      "A    [1, 2, 3]\n",
      "B    [4, 5, 6]\n",
      "C    [7, 8, 9]\n",
      "dtype: object\n",
      "A    [1, 2, 3]\n",
      "B    [4, 5, 6]\n",
      "dtype: object\n"
     ]
    }
   ],
   "source": [
    "t = pd.Series(data)\n",
    "print('----------t------------')\n",
    "print(t)\n",
    "print(t.loc[:'B'])\n"
   ]
  },
  {
   "cell_type": "markdown",
   "id": "8cfebb16",
   "metadata": {},
   "source": [
    "# Slicing and indexing"
   ]
  },
  {
   "cell_type": "code",
   "execution_count": 59,
   "id": "c2c8cc15",
   "metadata": {},
   "outputs": [
    {
     "name": "stdout",
     "output_type": "stream",
     "text": [
      "0    10\n",
      "1    15\n",
      "2    18\n",
      "3    22\n",
      "4    55\n",
      "5    77\n",
      "dtype: int32\n",
      "First Value: 15\n",
      "Value at 3: 3    22\n",
      "dtype: int32\n",
      "All values excluding 4:\n",
      " 1    15\n",
      "2    18\n",
      "3    22\n",
      "dtype: int32\n"
     ]
    },
    {
     "data": {
      "text/plain": [
       "0    10\n",
       "1    15\n",
       "2    18\n",
       "dtype: int32"
      ]
     },
     "execution_count": 59,
     "metadata": {},
     "output_type": "execute_result"
    }
   ],
   "source": [
    "import pandas as pd\n",
    "import numpy as np\n",
    "arr = np.array([10,15,18,22,55,77])\n",
    "s=pd.Series(arr)\n",
    "print(s)\n",
    "print('First Value:',s[1])\n",
    "print(\"Value at 3:\", s[3:4])\n",
    "print(\"All values excluding 4:\\n\",s[1:4])\n",
    "s[:3]"
   ]
  },
  {
   "cell_type": "code",
   "execution_count": 60,
   "id": "44794221",
   "metadata": {},
   "outputs": [
    {
     "name": "stdout",
     "output_type": "stream",
     "text": [
      "first     10\n",
      "second    20\n",
      "third     30\n",
      "fourth    50\n",
      "dtype: int32\n",
      "Index(['first', 'second', 'third', 'fourth'], dtype='object')\n"
     ]
    }
   ],
   "source": [
    "arr1 = np.array([10,20,30,50])\n",
    "t= pd.Series(arr1,index=['first','second','third','fourth'])\n",
    "print(t)\n",
    "print(t.index)"
   ]
  },
  {
   "cell_type": "code",
   "execution_count": 62,
   "id": "d7279400",
   "metadata": {},
   "outputs": [
    {
     "name": "stdout",
     "output_type": "stream",
     "text": [
      "A    10\n",
      "B    15\n",
      "C    18\n",
      "D    22\n",
      "E    55\n",
      "F    77\n",
      "dtype: int32\n",
      "B    15\n",
      "D    22\n",
      "dtype: int32\n",
      "A    10\n",
      "C    18\n",
      "E    55\n",
      "dtype: int32\n"
     ]
    }
   ],
   "source": [
    "import pandas as pd\n",
    "import numpy as np\n",
    "arr = np.array([10,15,18,22,55,77])\n",
    "s= pd.Series(arr,index=['A','B','C','D','E','F'])\n",
    "print(s)\n",
    "print(s[1:5:2])\n",
    "print(s[0:6:2])"
   ]
  },
  {
   "cell_type": "markdown",
   "id": "0982bcce",
   "metadata": {},
   "source": [
    "# DATAFRAME"
   ]
  },
  {
   "cell_type": "code",
   "execution_count": 68,
   "id": "a411fcb2",
   "metadata": {},
   "outputs": [
    {
     "name": "stdout",
     "output_type": "stream",
     "text": [
      "   0\n",
      "0  a\n",
      "1  b\n",
      "2  c\n",
      "3  d\n"
     ]
    }
   ],
   "source": [
    "s=pd.Series(['a','b','c','d'])\n",
    "df=pd.DataFrame(s)\n",
    "#df.columns=['Char'] By default column name is 0 we can change the name by this line of code\n",
    "print(df)"
   ]
  },
  {
   "cell_type": "code",
   "execution_count": 71,
   "id": "5647cc99",
   "metadata": {},
   "outputs": [
    {
     "name": "stdout",
     "output_type": "stream",
     "text": [
      "     Name Team\n",
      "0  Hardik   MI\n",
      "1   Virat  RCB\n"
     ]
    }
   ],
   "source": [
    "name = pd.Series(['Hardik','Virat'])\n",
    "team=pd.Series(['MI','RCB'])\n",
    "dic = {'Name':name,'Team':team}\n",
    "df=pd.DataFrame(dic)\n",
    "print(df)"
   ]
  },
  {
   "cell_type": "markdown",
   "id": "38a0c800",
   "metadata": {},
   "source": [
    "# Dataframe from list of dictionary"
   ]
  },
  {
   "cell_type": "code",
   "execution_count": 73,
   "id": "e76497bc",
   "metadata": {},
   "outputs": [
    {
     "name": "stdout",
     "output_type": "stream",
     "text": [
      "       Name    Sirname\n",
      "0    Sachin  Tendulkar\n",
      "1     Virat      Kohli\n",
      "2  Jaspreet     Bumrah\n"
     ]
    }
   ],
   "source": [
    "l = [{'Name':'Sachin','Sirname':'Tendulkar'},\n",
    "    {'Name':'Virat','Sirname':'Kohli'},\n",
    "    {'Name':'Jaspreet','Sirname':'Bumrah'}]\n",
    "df = pd.DataFrame(l)\n",
    "print(df)"
   ]
  },
  {
   "cell_type": "markdown",
   "id": "b3bb5b70",
   "metadata": {},
   "source": [
    "# Iteration on Dataframe"
   ]
  },
  {
   "cell_type": "code",
   "execution_count": 77,
   "id": "4a8bbe30",
   "metadata": {},
   "outputs": [
    {
     "name": "stdout",
     "output_type": "stream",
     "text": [
      "\n",
      " Row Index is : 0\n",
      "Row Value is\n",
      "Name          Sachin\n",
      "Sirname    Tendulkar\n",
      "Name: 0, dtype: object\n",
      "\n",
      " Row Index is : 1\n",
      "Row Value is\n",
      "Name       Virat\n",
      "Sirname    Kohli\n",
      "Name: 1, dtype: object\n",
      "\n",
      " Row Index is : 2\n",
      "Row Value is\n",
      "Name       Jaspreet\n",
      "Sirname      Bumrah\n",
      "Name: 2, dtype: object\n"
     ]
    }
   ],
   "source": [
    "l = [{'Name':'Sachin','Sirname':'Tendulkar'},\n",
    "    {'Name':'Virat','Sirname':'Kohli'},\n",
    "    {'Name':'Jaspreet','Sirname':'Bumrah'}]\n",
    "df = pd.DataFrame(l)\n",
    "#print(df)\n",
    "for(row_index,row_value) in df.iterrows():\n",
    "    print('\\n Row Index is :',row_index)\n",
    "    print('Row Value is')\n",
    "    print(row_value)"
   ]
  },
  {
   "cell_type": "code",
   "execution_count": 83,
   "id": "8ad13b82",
   "metadata": {},
   "outputs": [
    {
     "name": "stdout",
     "output_type": "stream",
     "text": [
      "\n",
      " Cloumn Name is : Name\n",
      "Column Value are\n",
      "0      Sachin\n",
      "1       Virat\n",
      "2    Jaspreet\n",
      "Name: Name, dtype: object\n",
      "\n",
      " Cloumn Name is : Sirname\n",
      "Column Value are\n",
      "0    Tendulkar\n",
      "1        Kohli\n",
      "2       Bumrah\n",
      "Name: Sirname, dtype: object\n"
     ]
    }
   ],
   "source": [
    "l = [{'Name':'Sachin','Sirname':'Tendulkar'},\n",
    "    {'Name':'Virat','Sirname':'Kohli'},\n",
    "    {'Name':'Jaspreet','Sirname':'Bumrah'}]\n",
    "df = pd.DataFrame(l)\n",
    "#print(df)\n",
    "for(col_name,col_value) in df.items(): #here earlier it was iteritems , but now its deprciated and we are now using items instead\n",
    "    print('\\n Cloumn Name is :',col_name)\n",
    "    print('Column Value are')\n",
    "    print(col_value)"
   ]
  },
  {
   "cell_type": "code",
   "execution_count": 87,
   "id": "5779dd18",
   "metadata": {},
   "outputs": [
    {
     "name": "stdout",
     "output_type": "stream",
     "text": [
      "   empid empname        doj\n",
      "0     10  Sachin  12/3/2021\n",
      "1     11   Vinod  31/4/2022\n",
      "2     12    Arun   4/4/1990\n",
      "3     13    Anil   3/6/2003\n"
     ]
    }
   ],
   "source": [
    "empdata = {'empid':[10,11,12,13],\n",
    "'empname':['Sachin','Vinod','Arun','Anil'],\n",
    "'doj':['12/3/2021','31/4/2022','4/4/1990','3/6/2003']}\n",
    "df=pd.DataFrame(empdata)\n",
    "print(df)"
   ]
  },
  {
   "cell_type": "code",
   "execution_count": 88,
   "id": "561a8b30",
   "metadata": {},
   "outputs": [
    {
     "data": {
      "text/plain": [
       "0    10\n",
       "1    11\n",
       "2    12\n",
       "3    13\n",
       "Name: empid, dtype: int64"
      ]
     },
     "execution_count": 88,
     "metadata": {},
     "output_type": "execute_result"
    }
   ],
   "source": [
    "df.empid"
   ]
  },
  {
   "cell_type": "code",
   "execution_count": 89,
   "id": "158e6ec1",
   "metadata": {},
   "outputs": [
    {
     "data": {
      "text/plain": [
       "0    10\n",
       "1    11\n",
       "2    12\n",
       "3    13\n",
       "Name: empid, dtype: int64"
      ]
     },
     "execution_count": 89,
     "metadata": {},
     "output_type": "execute_result"
    }
   ],
   "source": [
    "df['empid']"
   ]
  },
  {
   "cell_type": "code",
   "execution_count": 90,
   "id": "81a210fe",
   "metadata": {},
   "outputs": [
    {
     "data": {
      "text/html": [
       "<div>\n",
       "<style scoped>\n",
       "    .dataframe tbody tr th:only-of-type {\n",
       "        vertical-align: middle;\n",
       "    }\n",
       "\n",
       "    .dataframe tbody tr th {\n",
       "        vertical-align: top;\n",
       "    }\n",
       "\n",
       "    .dataframe thead th {\n",
       "        text-align: right;\n",
       "    }\n",
       "</style>\n",
       "<table border=\"1\" class=\"dataframe\">\n",
       "  <thead>\n",
       "    <tr style=\"text-align: right;\">\n",
       "      <th></th>\n",
       "      <th>empid</th>\n",
       "      <th>empname</th>\n",
       "    </tr>\n",
       "  </thead>\n",
       "  <tbody>\n",
       "    <tr>\n",
       "      <th>0</th>\n",
       "      <td>10</td>\n",
       "      <td>Sachin</td>\n",
       "    </tr>\n",
       "    <tr>\n",
       "      <th>1</th>\n",
       "      <td>11</td>\n",
       "      <td>Vinod</td>\n",
       "    </tr>\n",
       "    <tr>\n",
       "      <th>2</th>\n",
       "      <td>12</td>\n",
       "      <td>Arun</td>\n",
       "    </tr>\n",
       "    <tr>\n",
       "      <th>3</th>\n",
       "      <td>13</td>\n",
       "      <td>Anil</td>\n",
       "    </tr>\n",
       "  </tbody>\n",
       "</table>\n",
       "</div>"
      ],
      "text/plain": [
       "   empid empname\n",
       "0     10  Sachin\n",
       "1     11   Vinod\n",
       "2     12    Arun\n",
       "3     13    Anil"
      ]
     },
     "execution_count": 90,
     "metadata": {},
     "output_type": "execute_result"
    }
   ],
   "source": [
    "df[['empid','empname']]"
   ]
  },
  {
   "cell_type": "code",
   "execution_count": 91,
   "id": "6b06ee52",
   "metadata": {},
   "outputs": [
    {
     "name": "stdout",
     "output_type": "stream",
     "text": [
      "   list1  list2\n",
      "0     10     20\n",
      "1     16     20\n",
      "2     22     20\n",
      "3     18     20\n"
     ]
    }
   ],
   "source": [
    "s=pd.Series([10,16,22,18])\n",
    "df=pd.DataFrame(s)\n",
    "df.columns=['list1']\n",
    "df['list2'] =20\n",
    "print(df)"
   ]
  },
  {
   "cell_type": "code",
   "execution_count": 96,
   "id": "11d2fd6d",
   "metadata": {},
   "outputs": [
    {
     "name": "stdout",
     "output_type": "stream",
     "text": [
      "   list1  list2  list3\n",
      "0     10     20     30\n",
      "1     16     20     36\n",
      "2     22     20     42\n",
      "3     18     20     38\n"
     ]
    }
   ],
   "source": [
    "df['list3']=df['list1']+df['list2']\n",
    "print(df)"
   ]
  },
  {
   "cell_type": "markdown",
   "id": "c1f95868",
   "metadata": {},
   "source": [
    "# Delete Functions"
   ]
  },
  {
   "cell_type": "markdown",
   "id": "05faf4d0",
   "metadata": {},
   "source": [
    "Delete"
   ]
  },
  {
   "cell_type": "code",
   "execution_count": 97,
   "id": "2ce49f49",
   "metadata": {
    "scrolled": true
   },
   "outputs": [
    {
     "name": "stdout",
     "output_type": "stream",
     "text": [
      "   list1  list2\n",
      "0     10     20\n",
      "1     16     20\n",
      "2     22     20\n",
      "3     18     20\n"
     ]
    }
   ],
   "source": [
    "del df['list3']\n",
    "print(df)"
   ]
  },
  {
   "cell_type": "markdown",
   "id": "aafbc5d5",
   "metadata": {},
   "source": [
    "Pop"
   ]
  },
  {
   "cell_type": "code",
   "execution_count": 99,
   "id": "addb6864",
   "metadata": {},
   "outputs": [
    {
     "name": "stdout",
     "output_type": "stream",
     "text": [
      "   list1\n",
      "0     10\n",
      "1     16\n",
      "2     22\n",
      "3     18\n"
     ]
    }
   ],
   "source": [
    "df.pop('list2')\n",
    "print(df)"
   ]
  },
  {
   "cell_type": "markdown",
   "id": "3f68fd8c",
   "metadata": {},
   "source": [
    "Drop"
   ]
  },
  {
   "cell_type": "code",
   "execution_count": 108,
   "id": "8500d837",
   "metadata": {},
   "outputs": [
    {
     "name": "stdout",
     "output_type": "stream",
     "text": [
      "0    10\n",
      "1    20\n",
      "2    30\n",
      "3    50\n",
      "4    60\n",
      "5    70\n",
      "6    80\n",
      "7    70\n",
      "dtype: int64\n",
      "   List1  List2\n",
      "0     10     40\n",
      "1     20     40\n",
      "2     30     40\n",
      "3     50     40\n",
      "4     60     40\n",
      "5     70     40\n",
      "6     80     40\n",
      "7     70     40\n",
      "After axis = 1 Deletion\n",
      "   List1\n",
      "0     10\n",
      "1     20\n",
      "2     30\n",
      "3     50\n",
      "4     60\n",
      "5     70\n",
      "6     80\n",
      "7     70\n",
      "After axis=0 deletion\n",
      "   List1  List2\n",
      "1     20     40\n",
      "3     50     40\n",
      "4     60     40\n",
      "5     70     40\n",
      "6     80     40\n",
      "7     70     40\n"
     ]
    }
   ],
   "source": [
    "s=pd.Series([10,20,30,50,60,70,80,70])\n",
    "print(s)\n",
    "df=pd.DataFrame(s)\n",
    "df.columns = ['List1']\n",
    "df['List2']=40\n",
    "df1 = df.drop('List2',axis=1)\n",
    "df2 = df.drop(index=[0,2],axis=0)\n",
    "print(df)\n",
    "print(\"After axis = 1 Deletion\")\n",
    "print(df1)\n",
    "print(\"After axis=0 deletion\")\n",
    "print(df2)"
   ]
  },
  {
   "cell_type": "markdown",
   "id": "49743403",
   "metadata": {},
   "source": [
    "# Accessing Dataframe using loc"
   ]
  },
  {
   "cell_type": "code",
   "execution_count": 116,
   "id": "c6750179",
   "metadata": {},
   "outputs": [
    {
     "name": "stdout",
     "output_type": "stream",
     "text": [
      "       TCS  Wipro    EnY\n",
      "Qtr1  2000   5000  23000\n",
      "Qtr2  4000   5600  43000\n",
      "Qtr3  6000  60700  86000\n",
      "Qtr4  7388  77388  78388\n",
      "----------Accessing a single value----------\n",
      "TCS       6000\n",
      "Wipro    60700\n",
      "EnY      86000\n",
      "Name: Qtr3, dtype: int64\n",
      "----------Accessing value from Qtr1 to Qtr3\n",
      "       TCS  Wipro    EnY\n",
      "Qtr1  2000   5000  23000\n",
      "Qtr2  4000   5600  43000\n",
      "Qtr3  6000  60700  86000\n"
     ]
    }
   ],
   "source": [
    "runs = {'TCS':{'Qtr1':2000,'Qtr2':4000,'Qtr3':6000,'Qtr4':7388},\n",
    "       'Wipro':{'Qtr1':5000,'Qtr2':5600,'Qtr3':60700,'Qtr4':77388},\n",
    "        'EnY':{'Qtr1':23000,'Qtr2':43000,'Qtr3':86000,'Qtr4':78388}\n",
    "       }\n",
    "df = pd.DataFrame(runs)\n",
    "print(df)\n",
    "print(\"----------Accessing a single value----------\")\n",
    "print(df.loc['Qtr3',:])\n",
    "print(\"----------Accessing value from Qtr1 to Qtr3\")\n",
    "print(df.loc['Qtr1':'Qtr3',:])"
   ]
  },
  {
   "cell_type": "markdown",
   "id": "75f7a38b",
   "metadata": {},
   "source": [
    "1) df: Refers to the DataFrame created earlier.\n",
    "2) .loc: A label-based data selection method in pandas.\n",
    "3) 'Qtr1':'Qtr3':\n",
    "Specifies the range of rows to include.\n",
    "Includes all rows from 'Qtr1' to 'Qtr3' inclusive (start and stop labels are included in the selection).\n",
    "4) :: Refers to all columns in the DataFrame (this means \"select all columns\").\n"
   ]
  },
  {
   "cell_type": "code",
   "execution_count": 119,
   "id": "bc83476a",
   "metadata": {},
   "outputs": [
    {
     "name": "stdout",
     "output_type": "stream",
     "text": [
      "       TCS  Wipro    EnY\n",
      "Qtr1  2000   5000  23000\n",
      "Qtr2  4000   5600  43000\n",
      "Qtr3  6000  60700  86000\n",
      "Qtr4  7388  77388  78388\n",
      "----------Accessing a single Cloumn value----------\n",
      "Qtr1    2000\n",
      "Qtr2    4000\n",
      "Qtr3    6000\n",
      "Qtr4    7388\n",
      "Name: TCS, dtype: int64\n",
      "----------Accessing value of TCS and Wipro\n",
      "       TCS  Wipro\n",
      "Qtr1  2000   5000\n",
      "Qtr2  4000   5600\n",
      "Qtr3  6000  60700\n",
      "Qtr4  7388  77388\n"
     ]
    }
   ],
   "source": [
    "runs = {'TCS':{'Qtr1':2000,'Qtr2':4000,'Qtr3':6000,'Qtr4':7388},\n",
    "       'Wipro':{'Qtr1':5000,'Qtr2':5600,'Qtr3':60700,'Qtr4':77388},\n",
    "        'EnY':{'Qtr1':23000,'Qtr2':43000,'Qtr3':86000,'Qtr4':78388}\n",
    "       }\n",
    "df = pd.DataFrame(runs)\n",
    "print(df)\n",
    "print(\"----------Accessing a single Cloumn value----------\")\n",
    "print(df.loc[:,'TCS'])\n",
    "print(\"----------Accessing value of TCS and Wipro\")\n",
    "print(df.loc[:,'TCS':'Wipro'])"
   ]
  },
  {
   "cell_type": "markdown",
   "id": "15c5a590",
   "metadata": {},
   "source": [
    "Example -"
   ]
  },
  {
   "cell_type": "code",
   "execution_count": 136,
   "id": "f4991e8f",
   "metadata": {},
   "outputs": [
    {
     "name": "stdout",
     "output_type": "stream",
     "text": [
      "   empid empname        doj\n",
      "0     10  Sachin  12/3/2021\n",
      "1     11   Vinod  31/4/2022\n",
      "2     12    Arun   4/4/1990\n",
      "3     13    Anil   3/6/2003\n",
      "---------Accessing the first row--------\n",
      "empid             10\n",
      "empname       Sachin\n",
      "doj        12/3/2021\n",
      "Name: 0, dtype: object\n",
      "------------Accessing the rows 0 1 and 2------------\n",
      "   empid empname        doj\n",
      "0     10  Sachin  12/3/2021\n",
      "1     11   Vinod  31/4/2022\n",
      "2     12    Arun   4/4/1990\n"
     ]
    }
   ],
   "source": [
    "empdata = {'empid':[10,11,12,13],\n",
    "'empname':['Sachin','Vinod','Arun','Anil'],\n",
    "'doj':['12/3/2021','31/4/2022','4/4/1990','3/6/2003']}\n",
    "df=pd.DataFrame(empdata)\n",
    "print(df)\n",
    "print('---------Accessing the first row--------')\n",
    "print(df.loc[0])\n",
    "print('------------Accessing the rows 0 1 and 2------------') #2 is inclusive in loc\n",
    "print(df.loc[0:2])"
   ]
  },
  {
   "cell_type": "code",
   "execution_count": 130,
   "id": "abcdd71d",
   "metadata": {},
   "outputs": [
    {
     "name": "stdout",
     "output_type": "stream",
     "text": [
      "       TCS  Wipro    EnY\n",
      "Qtr1  2000   5000  23000\n",
      "Qtr2  4000   5600  43000\n",
      "Qtr3  6000  60700  86000\n",
      "Qtr4  7388  77388  78388\n",
      "----------Accessing 0th and 1st rows and 2nd Cloumn----------\n",
      "      Wipro\n",
      "Qtr1   5000\n",
      "Qtr2   5600\n",
      "----------Accessing all rows and first 2 columns\n",
      "       TCS  Wipro\n",
      "Qtr1  2000   5000\n",
      "Qtr2  4000   5600\n",
      "Qtr3  6000  60700\n",
      "Qtr4  7388  77388\n"
     ]
    }
   ],
   "source": [
    "runs = {'TCS':{'Qtr1':2000,'Qtr2':4000,'Qtr3':6000,'Qtr4':7388},\n",
    "       'Wipro':{'Qtr1':5000,'Qtr2':5600,'Qtr3':60700,'Qtr4':77388},\n",
    "        'EnY':{'Qtr1':23000,'Qtr2':43000,'Qtr3':86000,'Qtr4':78388}\n",
    "       }\n",
    "df = pd.DataFrame(runs)\n",
    "print(df)\n",
    "print(\"----------Accessing 0th and 1st rows and 2nd Cloumn----------\")\n",
    "print(df.iloc[0:2,1:2])\n",
    "print(\"----------Accessing all rows and first 2 columns\")\n",
    "print(df.iloc[:,0:2])"
   ]
  },
  {
   "cell_type": "code",
   "execution_count": 134,
   "id": "cce7b2fd",
   "metadata": {},
   "outputs": [
    {
     "name": "stdout",
     "output_type": "stream",
     "text": [
      "-------To get the first 5 rows----------\n",
      "       TCS  Wipro    EnY\n",
      "Qtr1  2000   5000  23000\n",
      "Qtr2  4000   5600  43000\n",
      "Qtr3  6000  60700  86000\n",
      "Qtr4  7388  77388  78388\n",
      "---------To get the first 2 values--------\n",
      "       TCS  Wipro    EnY\n",
      "Qtr1  2000   5000  23000\n",
      "Qtr2  4000   5600  43000\n",
      "-------To get the last 5 rows----------\n",
      "       TCS  Wipro    EnY\n",
      "Qtr1  2000   5000  23000\n",
      "Qtr2  4000   5600  43000\n",
      "Qtr3  6000  60700  86000\n",
      "Qtr4  7388  77388  78388\n",
      "-------To get the last 2 rows----------\n",
      "       TCS  Wipro    EnY\n",
      "Qtr3  6000  60700  86000\n",
      "Qtr4  7388  77388  78388\n"
     ]
    }
   ],
   "source": [
    "print('-------To get the first 5 rows----------')\n",
    "print(df.head())\n",
    "print('---------To get the first 2 values--------')\n",
    "print(df.head(2))\n",
    "print('-------To get the last 5 rows----------')\n",
    "print(df.tail())\n",
    "print('-------To get the last 2 rows----------')\n",
    "print(df.tail(2))"
   ]
  },
  {
   "cell_type": "markdown",
   "id": "f7639388",
   "metadata": {},
   "source": [
    "# Concat Operation in DataFrame"
   ]
  },
  {
   "cell_type": "code",
   "execution_count": 137,
   "id": "54284c6c",
   "metadata": {},
   "outputs": [
    {
     "name": "stdout",
     "output_type": "stream",
     "text": [
      "  id value1 value2\n",
      "0  1      A      B\n",
      "1  2      B      D\n",
      "2  3      C      F\n",
      "3  4      D      H\n",
      "4  5      E      J\n",
      "0  2      K      L\n",
      "1  3      M      N\n",
      "2  6      O      P\n",
      "3  7      Q      R\n",
      "4  8      S      T\n"
     ]
    }
   ],
   "source": [
    "dict1 = {'id':['1','2','3','4','5'],\n",
    "       'value1': ['A','B','C','D','E'],\n",
    "       'value2':['B','D','F','H','J']}\n",
    "dict2 = {'id':['2','3','6','7','8'],\n",
    "       'value1': ['K','M','O','Q','S'],\n",
    "       'value2':['L','N','P','R','T']}\n",
    "df1= pd.DataFrame(dict1)\n",
    "df2 = pd.DataFrame(dict2)\n",
    "df3 = pd.concat([df1,df2])\n",
    "print(df3)"
   ]
  },
  {
   "cell_type": "code",
   "execution_count": 138,
   "id": "4fd24525",
   "metadata": {},
   "outputs": [
    {
     "name": "stdout",
     "output_type": "stream",
     "text": [
      "  id value1 value2\n",
      "0  1      A      B\n",
      "1  2      B      D\n",
      "2  3      C      F\n",
      "3  4      D      H\n",
      "4  5      E      J\n",
      "5  2      K      L\n",
      "6  3      M      N\n",
      "7  6      O      P\n",
      "8  7      Q      R\n",
      "9  8      S      T\n"
     ]
    }
   ],
   "source": [
    "dict1 = {'id':['1','2','3','4','5'],\n",
    "       'value1': ['A','B','C','D','E'],\n",
    "       'value2':['B','D','F','H','J']}\n",
    "dict2 = {'id':['2','3','6','7','8'],\n",
    "       'value1': ['K','M','O','Q','S'],\n",
    "       'value2':['L','N','P','R','T']}\n",
    "df1= pd.DataFrame(dict1)\n",
    "df2 = pd.DataFrame(dict2)\n",
    "df3 = pd.concat([df1,df2],ignore_index=True)\n",
    "print(df3)"
   ]
  },
  {
   "cell_type": "code",
   "execution_count": 139,
   "id": "0381faf9",
   "metadata": {},
   "outputs": [
    {
     "name": "stdout",
     "output_type": "stream",
     "text": [
      "  id value1 value2 id value1 value2\n",
      "0  1      A      B  2      K      L\n",
      "1  2      B      D  3      M      N\n",
      "2  3      C      F  6      O      P\n",
      "3  4      D      H  7      Q      R\n",
      "4  5      E      J  8      S      T\n"
     ]
    }
   ],
   "source": [
    "dict1 = {'id':['1','2','3','4','5'],\n",
    "       'value1': ['A','B','C','D','E'],\n",
    "       'value2':['B','D','F','H','J']}\n",
    "dict2 = {'id':['2','3','6','7','8'],\n",
    "       'value1': ['K','M','O','Q','S'],\n",
    "       'value2':['L','N','P','R','T']}\n",
    "df1= pd.DataFrame(dict1)\n",
    "df2 = pd.DataFrame(dict2)\n",
    "df3 = pd.concat([df1,df2],axis=1)\n",
    "print(df3)"
   ]
  },
  {
   "cell_type": "markdown",
   "id": "4623c252",
   "metadata": {},
   "source": [
    "Join = 'inner ' works only for column aligmnet nit for rows"
   ]
  },
  {
   "cell_type": "code",
   "execution_count": 144,
   "id": "ed31b31e",
   "metadata": {},
   "outputs": [
    {
     "name": "stdout",
     "output_type": "stream",
     "text": [
      "DataFrame 1:\n",
      "   A  B\n",
      "0  1  4\n",
      "1  2  5\n",
      "2  3  6\n",
      "\n",
      "DataFrame 2:\n",
      "   C   D\n",
      "1  7   9\n",
      "2  8  10\n",
      "\n",
      "Result of Inner Join on Indexes:\n",
      "   A  B  C   D\n",
      "1  2  5  7   9\n",
      "2  3  6  8  10\n"
     ]
    }
   ],
   "source": [
    "# Define two DataFrames with overlapping indexes\n",
    "df1 = pd.DataFrame({\n",
    "    'A': [1, 2, 3],\n",
    "    'B': [4, 5, 6]\n",
    "}, index=[0, 1, 2])\n",
    "\n",
    "df2 = pd.DataFrame({\n",
    "    'C': [7, 8],\n",
    "    'D': [9, 10]\n",
    "}, index=[1, 2])\n",
    "\n",
    "print(\"DataFrame 1:\")\n",
    "print(df1)\n",
    "print(\"\\nDataFrame 2:\")\n",
    "print(df2)\n",
    "\n",
    "# Perform inner join on indexes\n",
    "result = pd.concat([df1, df2], axis=1, join='inner')\n",
    "print(\"\\nResult of Inner Join on Indexes:\")\n",
    "print(result)\n"
   ]
  },
  {
   "cell_type": "markdown",
   "id": "11135018",
   "metadata": {},
   "source": [
    "# Reindex Paramater in Concat Function"
   ]
  },
  {
   "cell_type": "code",
   "execution_count": 150,
   "id": "89485ec2",
   "metadata": {},
   "outputs": [
    {
     "name": "stdout",
     "output_type": "stream",
     "text": [
      "df2 is: \n",
      "      C     D\n",
      "0  NaN   NaN\n",
      "1  7.0   9.0\n",
      "2  8.0  10.0\n",
      "   A  B    C     D\n",
      "0  1  4  NaN   NaN\n",
      "1  2  5  7.0   9.0\n",
      "2  3  6  8.0  10.0\n"
     ]
    }
   ],
   "source": [
    "import pandas as pd\n",
    "\n",
    "# Define two DataFrames\n",
    "df1 = pd.DataFrame({\n",
    "    'A': [1, 2, 3],\n",
    "    'B': [4, 5, 6]\n",
    "}, index=[0, 1, 2])\n",
    "\n",
    "df2 = pd.DataFrame({\n",
    "    'C': [7, 8],\n",
    "    'D': [9, 10]\n",
    "}, index=[1, 2])\n",
    "\n",
    "# Reindex df2 to match df1's index before concatenation\n",
    "df2 = df2.reindex(df1.index)\n",
    "print('df2 is: \\n',df2)\n",
    "# Concatenate along columns\n",
    "result = pd.concat([df1, df2], axis=1)\n",
    "print(result)\n"
   ]
  },
  {
   "cell_type": "markdown",
   "id": "aab491c6",
   "metadata": {},
   "source": [
    "# Merge Operation"
   ]
  },
  {
   "cell_type": "code",
   "execution_count": 157,
   "id": "a8dce72a",
   "metadata": {},
   "outputs": [
    {
     "name": "stdout",
     "output_type": "stream",
     "text": [
      "df3 is \n",
      "   id value1 value2\n",
      "0  1      A      B\n",
      "1  2      C      D\n",
      "2  3      E      F\n",
      "3  4      G      H\n",
      "4  5      I      J\n",
      "5  2      K      L\n",
      "6  3      M      N\n",
      "7  6      O      P\n",
      "8  7      Q      R\n",
      "9  8      S      T\n",
      "Merged Dataframe is\n",
      "   id value1 value2  value3\n",
      "0  1      A      B      12\n",
      "1  2      C      D      13\n",
      "2  2      K      L      13\n",
      "3  3      E      F      14\n",
      "4  3      M      N      14\n",
      "5  4      G      H      15\n",
      "6  5      I      J      16\n",
      "7  6      O      P      17\n",
      "8  7      Q      R      15\n",
      "9  8      S      T      12\n"
     ]
    }
   ],
   "source": [
    "dict1 = {'id':['1','2','3','4','5'],\n",
    "       'value1': ['A','C','E','G','I'],\n",
    "       'value2':['B','D','F','H','J']}\n",
    "dict2 = {'id':['2','3','6','7','8'],\n",
    "       'value1': ['K','M','O','Q','S'],\n",
    "       'value2':['L','N','P','R','T']}\n",
    "dict3 = {'id':['1','2','3','4','5','6','7','8','9','10'],\n",
    "        'value3': [12,13,14,15,16,17,15,12,13,14]}\n",
    "\n",
    "df1= pd.DataFrame(dict1)\n",
    "df2 = pd.DataFrame(dict2)\n",
    "\n",
    "df3 = pd.concat([df1,df2],ignore_index=True)\n",
    "print('df3 is \\n',df3)\n",
    "\n",
    "df4 = pd.DataFrame(dict3)\n",
    "df5 = pd.merge(df3,df4, on='id')\n",
    "print('Merged Dataframe is\\n',df5)\n"
   ]
  },
  {
   "cell_type": "markdown",
   "id": "f300225c",
   "metadata": {},
   "source": [
    "If the columns by which two Dataframe are merged is in different name use left_on and right_on paramaters and specify the cloumns there. And if you find the extra column in confusing drop that using the drop command"
   ]
  },
  {
   "cell_type": "code",
   "execution_count": 162,
   "id": "9afecf04",
   "metadata": {},
   "outputs": [
    {
     "name": "stdout",
     "output_type": "stream",
     "text": [
      "df3 is \n",
      "   id value1 value2\n",
      "0  1      A      B\n",
      "1  2      C      D\n",
      "2  3      E      F\n",
      "3  4      G      H\n",
      "4  5      I      J\n",
      "5  2      K      L\n",
      "6  3      M      N\n",
      "7  6      O      P\n",
      "8  7      Q      R\n",
      "9  8      S      T\n",
      "Merged Dataframe is\n",
      "   id value1 value2  value3\n",
      "0  1      A      B      12\n",
      "1  2      C      D      13\n",
      "2  2      K      L      13\n",
      "3  3      E      F      14\n",
      "4  3      M      N      14\n",
      "5  4      G      H      15\n",
      "6  5      I      J      16\n",
      "7  6      O      P      17\n",
      "8  7      Q      R      15\n",
      "9  8      S      T      12\n"
     ]
    }
   ],
   "source": [
    "dict1 = {'id':['1','2','3','4','5'],\n",
    "       'value1': ['A','C','E','G','I'],\n",
    "       'value2':['B','D','F','H','J']}\n",
    "dict2 = {'id':['2','3','6','7','8'],\n",
    "       'value1': ['K','M','O','Q','S'],\n",
    "       'value2':['L','N','P','R','T']}\n",
    "dict3 = {'custid':['1','2','3','4','5','6','7','8','9','10'],\n",
    "        'value3': [12,13,14,15,16,17,15,12,13,14]}\n",
    "\n",
    "df1= pd.DataFrame(dict1)\n",
    "df2 = pd.DataFrame(dict2)\n",
    "\n",
    "df3 = pd.concat([df1,df2],ignore_index=True)\n",
    "print('df3 is \\n',df3)\n",
    "\n",
    "df4 = pd.DataFrame(dict3)\n",
    "df5 = pd.merge(df3,df4, left_on='id',right_on='custid')\n",
    "df5 = df5.drop(columns=['custid'])\n",
    "\n",
    "\n",
    "print('Merged Dataframe is\\n',df5)\n"
   ]
  },
  {
   "cell_type": "markdown",
   "id": "e47b3462",
   "metadata": {},
   "source": [
    "# Join Operation in Dataframe"
   ]
  },
  {
   "cell_type": "markdown",
   "id": "1d5e14f1",
   "metadata": {},
   "source": [
    "Join Types:\n",
    "1) how='inner': Only common rows are kept.\n",
    "2) how='outer': All rows are kept, and missing values are filled with NaN.\n",
    "3) how='left': All rows from the left DataFrame (df1) are kept.\n",
    "4) how='right': All rows from the right DataFrame (df2) are kept."
   ]
  },
  {
   "cell_type": "markdown",
   "id": "a9e27b10",
   "metadata": {},
   "source": [
    "# Outer Join"
   ]
  },
  {
   "cell_type": "code",
   "execution_count": 163,
   "id": "5de08d82",
   "metadata": {},
   "outputs": [
    {
     "name": "stdout",
     "output_type": "stream",
     "text": [
      "  id value1_x value2_x value1_y value2_y\n",
      "0  1        A        B      NaN      NaN\n",
      "1  2        C        D        K        L\n",
      "2  3        E        F        M        N\n",
      "3  4        G        H      NaN      NaN\n",
      "4  5        I        J      NaN      NaN\n",
      "5  6      NaN      NaN        O        P\n",
      "6  7      NaN      NaN        Q        R\n",
      "7  8      NaN      NaN        S        T\n"
     ]
    }
   ],
   "source": [
    "dict1 = {'id':['1','2','3','4','5'],\n",
    "       'value1': ['A','C','E','G','I'],\n",
    "       'value2':['B','D','F','H','J']}\n",
    "dict2 = {'id':['2','3','6','7','8'],\n",
    "       'value1': ['K','M','O','Q','S'],\n",
    "       'value2':['L','N','P','R','T']}\n",
    "df1= pd.DataFrame(dict1)\n",
    "df2 = pd.DataFrame(dict2)\n",
    "df3 = pd.merge(df1,df2,on='id',how='outer')\n",
    "print(df3)"
   ]
  },
  {
   "cell_type": "markdown",
   "id": "b59e2a87",
   "metadata": {},
   "source": [
    "By default after the join opeartion values will come as value1_x and value2_y. To change this use the suffix parameter like below"
   ]
  },
  {
   "cell_type": "code",
   "execution_count": 169,
   "id": "ffdafb26",
   "metadata": {},
   "outputs": [
    {
     "name": "stdout",
     "output_type": "stream",
     "text": [
      "  id value1_left value2_left value1_right value2_right\n",
      "0  1           A           B          NaN          NaN\n",
      "1  2           C           D            K            L\n",
      "2  3           E           F            M            N\n",
      "3  4           G           H          NaN          NaN\n",
      "4  5           I           J          NaN          NaN\n",
      "5  6         NaN         NaN            O            P\n",
      "6  7         NaN         NaN            Q            R\n",
      "7  8         NaN         NaN            S            T\n"
     ]
    }
   ],
   "source": [
    "dict1 = {'id':['1','2','3','4','5'],\n",
    "       'value1': ['A','C','E','G','I'],\n",
    "       'value2':['B','D','F','H','J']}\n",
    "dict2 = {'id':['2','3','6','7','8'],\n",
    "       'value1': ['K','M','O','Q','S'],\n",
    "       'value2':['L','N','P','R','T']}\n",
    "df1= pd.DataFrame(dict1)\n",
    "df2 = pd.DataFrame(dict2)\n",
    "df3 = pd.merge(df1,df2, on='id', how='outer',suffixes=('_left','_right'))\n",
    "print(df3)"
   ]
  },
  {
   "cell_type": "markdown",
   "id": "e1c22132",
   "metadata": {},
   "source": [
    "# Inner Join"
   ]
  },
  {
   "cell_type": "code",
   "execution_count": 170,
   "id": "b9112e72",
   "metadata": {},
   "outputs": [
    {
     "name": "stdout",
     "output_type": "stream",
     "text": [
      "  id value1_x value2_x value1_y value2_y\n",
      "0  2        C        D        K        L\n",
      "1  3        E        F        M        N\n"
     ]
    }
   ],
   "source": [
    "df3 = pd.merge(df1,df2,on='id',how='inner')\n",
    "print(df3)"
   ]
  },
  {
   "cell_type": "markdown",
   "id": "9415921a",
   "metadata": {},
   "source": [
    "# Right Join"
   ]
  },
  {
   "cell_type": "code",
   "execution_count": 172,
   "id": "f65d8886",
   "metadata": {},
   "outputs": [
    {
     "name": "stdout",
     "output_type": "stream",
     "text": [
      "  id value1_x value2_x value1_y value2_y\n",
      "0  2        C        D        K        L\n",
      "1  3        E        F        M        N\n",
      "2  6      NaN      NaN        O        P\n",
      "3  7      NaN      NaN        Q        R\n",
      "4  8      NaN      NaN        S        T\n"
     ]
    }
   ],
   "source": [
    "df3 = pd.merge(df1,df2,on='id',how='right')\n",
    "print(df3)"
   ]
  },
  {
   "cell_type": "markdown",
   "id": "e67dc358",
   "metadata": {},
   "source": [
    "# Left Join"
   ]
  },
  {
   "cell_type": "code",
   "execution_count": 174,
   "id": "bb820f6f",
   "metadata": {},
   "outputs": [
    {
     "name": "stdout",
     "output_type": "stream",
     "text": [
      "  id value1_x value2_x value1_y value2_y\n",
      "0  1        A        B      NaN      NaN\n",
      "1  2        C        D        K        L\n",
      "2  3        E        F        M        N\n",
      "3  4        G        H      NaN      NaN\n",
      "4  5        I        J      NaN      NaN\n"
     ]
    }
   ],
   "source": [
    "df3 = pd.merge(df1,df2,on='id',how='left')\n",
    "print(df3)"
   ]
  },
  {
   "cell_type": "markdown",
   "id": "ad2d464b",
   "metadata": {},
   "source": [
    "# Joining on Index"
   ]
  },
  {
   "cell_type": "code",
   "execution_count": 176,
   "id": "00904f9f",
   "metadata": {},
   "outputs": [
    {
     "name": "stdout",
     "output_type": "stream",
     "text": [
      "  id_x value1_x value2_x id_y value1_y value2_y\n",
      "0    1        A        B    2        K        L\n",
      "1    2        C        D    3        M        N\n",
      "2    3        E        F    6        O        P\n",
      "3    4        G        H    7        Q        R\n",
      "4    5        I        J    8        S        T\n"
     ]
    }
   ],
   "source": [
    "dict1 = {'id':['1','2','3','4','5'],\n",
    "       'value1': ['A','C','E','G','I'],\n",
    "       'value2':['B','D','F','H','J']}\n",
    "dict2 = {'id':['2','3','6','7','8'],\n",
    "       'value1': ['K','M','O','Q','S'],\n",
    "       'value2':['L','N','P','R','T']}\n",
    "df1= pd.DataFrame(dict1)\n",
    "df2 = pd.DataFrame(dict2)\n",
    "df3 = pd.merge(df1,df2, right_index=True,left_index=True)\n",
    "print(df3)"
   ]
  },
  {
   "cell_type": "code",
   "execution_count": 177,
   "id": "e79f2f25",
   "metadata": {},
   "outputs": [
    {
     "name": "stdout",
     "output_type": "stream",
     "text": [
      "DataFrame 1:\n",
      "   A  B\n",
      "a  1  4\n",
      "b  2  5\n",
      "c  3  6\n",
      "\n",
      "DataFrame 2:\n",
      "   C   D\n",
      "b  7  10\n",
      "c  8  11\n",
      "d  9  12\n",
      "\n",
      "Inner Merge on Indexes:\n",
      "   A  B  C   D\n",
      "b  2  5  7  10\n",
      "c  3  6  8  11\n",
      "\n",
      "Outer Merge on Indexes:\n",
      "     A    B    C     D\n",
      "a  1.0  4.0  NaN   NaN\n",
      "b  2.0  5.0  7.0  10.0\n",
      "c  3.0  6.0  8.0  11.0\n",
      "d  NaN  NaN  9.0  12.0\n",
      "\n",
      "Left Merge on Indexes:\n",
      "   A  B    C     D\n",
      "a  1  4  NaN   NaN\n",
      "b  2  5  7.0  10.0\n",
      "c  3  6  8.0  11.0\n",
      "\n",
      "Right Merge on Indexes:\n",
      "     A    B  C   D\n",
      "b  2.0  5.0  7  10\n",
      "c  3.0  6.0  8  11\n",
      "d  NaN  NaN  9  12\n"
     ]
    }
   ],
   "source": [
    "import pandas as pd\n",
    "\n",
    "# Define two DataFrames with indexes\n",
    "df1 = pd.DataFrame({\n",
    "    'A': [1, 2, 3],\n",
    "    'B': [4, 5, 6]\n",
    "}, index=['a', 'b', 'c'])\n",
    "\n",
    "df2 = pd.DataFrame({\n",
    "    'C': [7, 8, 9],\n",
    "    'D': [10, 11, 12]\n",
    "}, index=['b', 'c', 'd'])\n",
    "\n",
    "print(\"DataFrame 1:\")\n",
    "print(df1)\n",
    "\n",
    "print(\"\\nDataFrame 2:\")\n",
    "print(df2)\n",
    "\n",
    "# Merge using indexes (inner join by default)\n",
    "merged_inner = pd.merge(df1, df2, left_index=True, right_index=True, how='inner')\n",
    "print(\"\\nInner Merge on Indexes:\")\n",
    "print(merged_inner)\n",
    "\n",
    "# Merge using indexes (outer join)\n",
    "merged_outer = pd.merge(df1, df2, left_index=True, right_index=True, how='outer')\n",
    "print(\"\\nOuter Merge on Indexes:\")\n",
    "print(merged_outer)\n",
    "\n",
    "# Merge using indexes (left join)\n",
    "merged_left = pd.merge(df1, df2, left_index=True, right_index=True, how='left')\n",
    "print(\"\\nLeft Merge on Indexes:\")\n",
    "print(merged_left)\n",
    "\n",
    "# Merge using indexes (right join)\n",
    "merged_right = pd.merge(df1, df2, left_index=True, right_index=True, how='right')\n",
    "print(\"\\nRight Merge on Indexes:\")\n",
    "print(merged_right)\n"
   ]
  },
  {
   "attachments": {
    "image.png": {
     "image/png": "[encoded data removed]"
    }
   },
   "cell_type": "markdown",
   "id": "a493b5de",
   "metadata": {},
   "source": [
    "![image.png](attachment:image.png)"
   ]
  },
  {
   "cell_type": "markdown",
   "id": "47639a6a",
   "metadata": {},
   "source": [
    "# To Read a CSV File"
   ]
  },
  {
   "cell_type": "code",
   "execution_count": 182,
   "id": "53908394",
   "metadata": {},
   "outputs": [
    {
     "data": {
      "text/html": [
       "<div>\n",
       "<style scoped>\n",
       "    .dataframe tbody tr th:only-of-type {\n",
       "        vertical-align: middle;\n",
       "    }\n",
       "\n",
       "    .dataframe tbody tr th {\n",
       "        vertical-align: top;\n",
       "    }\n",
       "\n",
       "    .dataframe thead th {\n",
       "        text-align: right;\n",
       "    }\n",
       "</style>\n",
       "<table border=\"1\" class=\"dataframe\">\n",
       "  <thead>\n",
       "    <tr style=\"text-align: right;\">\n",
       "      <th></th>\n",
       "      <th>Index</th>\n",
       "      <th>Customer Id</th>\n",
       "      <th>First Name</th>\n",
       "      <th>Last Name</th>\n",
       "      <th>Company</th>\n",
       "      <th>City</th>\n",
       "      <th>Country</th>\n",
       "      <th>Phone 1</th>\n",
       "      <th>Phone 2</th>\n",
       "      <th>Email</th>\n",
       "      <th>Subscription Date</th>\n",
       "      <th>Website</th>\n",
       "    </tr>\n",
       "  </thead>\n",
       "  <tbody>\n",
       "    <tr>\n",
       "      <th>0</th>\n",
       "      <td>1.0</td>\n",
       "      <td>DD37Cf93aecA6Dc</td>\n",
       "      <td>Sheryl</td>\n",
       "      <td>Baxter</td>\n",
       "      <td>Rasmussen Group</td>\n",
       "      <td>East Leonard</td>\n",
       "      <td>Chile</td>\n",
       "      <td>229.077.5154</td>\n",
       "      <td>397.884.0519x718</td>\n",
       "      <td>zunigavanessa@smith.info</td>\n",
       "      <td>8/24/2020</td>\n",
       "      <td>http://www.stephenson.com/</td>\n",
       "    </tr>\n",
       "    <tr>\n",
       "      <th>1</th>\n",
       "      <td>2.0</td>\n",
       "      <td>1Ef7b82A4CAAD10</td>\n",
       "      <td>Preston</td>\n",
       "      <td>Lozano</td>\n",
       "      <td>Vega-Gentry</td>\n",
       "      <td>East Jimmychester</td>\n",
       "      <td>Djibouti</td>\n",
       "      <td>5153435776</td>\n",
       "      <td>686-620-1820x944</td>\n",
       "      <td>vmata@colon.com</td>\n",
       "      <td>4/23/2021</td>\n",
       "      <td>http://www.hobbs.com/</td>\n",
       "    </tr>\n",
       "    <tr>\n",
       "      <th>2</th>\n",
       "      <td>3.0</td>\n",
       "      <td>6F94879bDAfE5a6</td>\n",
       "      <td>Roy</td>\n",
       "      <td>Berry</td>\n",
       "      <td>Murillo-Perry</td>\n",
       "      <td>Isabelborough</td>\n",
       "      <td>Antigua and Barbuda</td>\n",
       "      <td>-1199</td>\n",
       "      <td>(496)978-3969x58947</td>\n",
       "      <td>beckycarr@hogan.com</td>\n",
       "      <td>3/25/2020</td>\n",
       "      <td>http://www.lawrence.com/</td>\n",
       "    </tr>\n",
       "    <tr>\n",
       "      <th>3</th>\n",
       "      <td>4.0</td>\n",
       "      <td>5Cef8BFA16c5e3c</td>\n",
       "      <td>Linda</td>\n",
       "      <td>Olsen</td>\n",
       "      <td>Dominguez, Mcmillan and Donovan</td>\n",
       "      <td>Bensonview</td>\n",
       "      <td>Dominican Republic</td>\n",
       "      <td>001-808-617-6467x12895</td>\n",
       "      <td>-9892</td>\n",
       "      <td>stanleyblackwell@benson.org</td>\n",
       "      <td>6/2/2020</td>\n",
       "      <td>http://www.good-lyons.com/</td>\n",
       "    </tr>\n",
       "    <tr>\n",
       "      <th>4</th>\n",
       "      <td>5.0</td>\n",
       "      <td>053d585Ab6b3159</td>\n",
       "      <td>Joanna</td>\n",
       "      <td>Bender</td>\n",
       "      <td>Martin, Lang and Andrade</td>\n",
       "      <td>West Priscilla</td>\n",
       "      <td>Slovakia (Slovak Republic)</td>\n",
       "      <td>001-234-203-0635x76146</td>\n",
       "      <td>001-199-446-3860x3486</td>\n",
       "      <td>colinalvarado@miles.net</td>\n",
       "      <td>4/17/2021</td>\n",
       "      <td>https://goodwin-ingram.com/</td>\n",
       "    </tr>\n",
       "    <tr>\n",
       "      <th>...</th>\n",
       "      <td>...</td>\n",
       "      <td>...</td>\n",
       "      <td>...</td>\n",
       "      <td>...</td>\n",
       "      <td>...</td>\n",
       "      <td>...</td>\n",
       "      <td>...</td>\n",
       "      <td>...</td>\n",
       "      <td>...</td>\n",
       "      <td>...</td>\n",
       "      <td>...</td>\n",
       "      <td>...</td>\n",
       "    </tr>\n",
       "    <tr>\n",
       "      <th>95</th>\n",
       "      <td>NaN</td>\n",
       "      <td>NaN</td>\n",
       "      <td>NaN</td>\n",
       "      <td>NaN</td>\n",
       "      <td>NaN</td>\n",
       "      <td>NaN</td>\n",
       "      <td>NaN</td>\n",
       "      <td>NaN</td>\n",
       "      <td>NaN</td>\n",
       "      <td>NaN</td>\n",
       "      <td>NaN</td>\n",
       "      <td>NaN</td>\n",
       "    </tr>\n",
       "    <tr>\n",
       "      <th>96</th>\n",
       "      <td>NaN</td>\n",
       "      <td>NaN</td>\n",
       "      <td>NaN</td>\n",
       "      <td>NaN</td>\n",
       "      <td>NaN</td>\n",
       "      <td>NaN</td>\n",
       "      <td>NaN</td>\n",
       "      <td>NaN</td>\n",
       "      <td>NaN</td>\n",
       "      <td>NaN</td>\n",
       "      <td>NaN</td>\n",
       "      <td>NaN</td>\n",
       "    </tr>\n",
       "    <tr>\n",
       "      <th>97</th>\n",
       "      <td>NaN</td>\n",
       "      <td>NaN</td>\n",
       "      <td>NaN</td>\n",
       "      <td>NaN</td>\n",
       "      <td>NaN</td>\n",
       "      <td>NaN</td>\n",
       "      <td>NaN</td>\n",
       "      <td>NaN</td>\n",
       "      <td>NaN</td>\n",
       "      <td>NaN</td>\n",
       "      <td>NaN</td>\n",
       "      <td>NaN</td>\n",
       "    </tr>\n",
       "    <tr>\n",
       "      <th>98</th>\n",
       "      <td>NaN</td>\n",
       "      <td>NaN</td>\n",
       "      <td>NaN</td>\n",
       "      <td>NaN</td>\n",
       "      <td>NaN</td>\n",
       "      <td>NaN</td>\n",
       "      <td>NaN</td>\n",
       "      <td>NaN</td>\n",
       "      <td>NaN</td>\n",
       "      <td>NaN</td>\n",
       "      <td>NaN</td>\n",
       "      <td>NaN</td>\n",
       "    </tr>\n",
       "    <tr>\n",
       "      <th>99</th>\n",
       "      <td>NaN</td>\n",
       "      <td>NaN</td>\n",
       "      <td>NaN</td>\n",
       "      <td>NaN</td>\n",
       "      <td>NaN</td>\n",
       "      <td>NaN</td>\n",
       "      <td>NaN</td>\n",
       "      <td>NaN</td>\n",
       "      <td>NaN</td>\n",
       "      <td>NaN</td>\n",
       "      <td>NaN</td>\n",
       "      <td>NaN</td>\n",
       "    </tr>\n",
       "  </tbody>\n",
       "</table>\n",
       "<p>100 rows × 12 columns</p>\n",
       "</div>"
      ],
      "text/plain": [
       "    Index      Customer Id First Name Last Name  \\\n",
       "0     1.0  DD37Cf93aecA6Dc     Sheryl    Baxter   \n",
       "1     2.0  1Ef7b82A4CAAD10    Preston    Lozano   \n",
       "2     3.0  6F94879bDAfE5a6        Roy     Berry   \n",
       "3     4.0  5Cef8BFA16c5e3c      Linda     Olsen   \n",
       "4     5.0  053d585Ab6b3159     Joanna    Bender   \n",
       "..    ...              ...        ...       ...   \n",
       "95    NaN              NaN        NaN       NaN   \n",
       "96    NaN              NaN        NaN       NaN   \n",
       "97    NaN              NaN        NaN       NaN   \n",
       "98    NaN              NaN        NaN       NaN   \n",
       "99    NaN              NaN        NaN       NaN   \n",
       "\n",
       "                            Company               City  \\\n",
       "0                   Rasmussen Group       East Leonard   \n",
       "1                       Vega-Gentry  East Jimmychester   \n",
       "2                     Murillo-Perry      Isabelborough   \n",
       "3   Dominguez, Mcmillan and Donovan         Bensonview   \n",
       "4          Martin, Lang and Andrade     West Priscilla   \n",
       "..                              ...                ...   \n",
       "95                              NaN                NaN   \n",
       "96                              NaN                NaN   \n",
       "97                              NaN                NaN   \n",
       "98                              NaN                NaN   \n",
       "99                              NaN                NaN   \n",
       "\n",
       "                       Country                 Phone 1                Phone 2  \\\n",
       "0                        Chile            229.077.5154       397.884.0519x718   \n",
       "1                     Djibouti              5153435776       686-620-1820x944   \n",
       "2          Antigua and Barbuda                   -1199    (496)978-3969x58947   \n",
       "3           Dominican Republic  001-808-617-6467x12895                  -9892   \n",
       "4   Slovakia (Slovak Republic)  001-234-203-0635x76146  001-199-446-3860x3486   \n",
       "..                         ...                     ...                    ...   \n",
       "95                         NaN                     NaN                    NaN   \n",
       "96                         NaN                     NaN                    NaN   \n",
       "97                         NaN                     NaN                    NaN   \n",
       "98                         NaN                     NaN                    NaN   \n",
       "99                         NaN                     NaN                    NaN   \n",
       "\n",
       "                          Email Subscription Date                      Website  \n",
       "0      zunigavanessa@smith.info         8/24/2020   http://www.stephenson.com/  \n",
       "1               vmata@colon.com         4/23/2021        http://www.hobbs.com/  \n",
       "2           beckycarr@hogan.com         3/25/2020     http://www.lawrence.com/  \n",
       "3   stanleyblackwell@benson.org          6/2/2020   http://www.good-lyons.com/  \n",
       "4       colinalvarado@miles.net         4/17/2021  https://goodwin-ingram.com/  \n",
       "..                          ...               ...                          ...  \n",
       "95                          NaN               NaN                          NaN  \n",
       "96                          NaN               NaN                          NaN  \n",
       "97                          NaN               NaN                          NaN  \n",
       "98                          NaN               NaN                          NaN  \n",
       "99                          NaN               NaN                          NaN  \n",
       "\n",
       "[100 rows x 12 columns]"
      ]
     },
     "execution_count": 182,
     "metadata": {},
     "output_type": "execute_result"
    }
   ],
   "source": [
    "df = pd.read_csv('C:/Users/nandi/Downloads/customers-100.csv')\n",
    "df"
   ]
  },
  {
   "cell_type": "code",
   "execution_count": null,
   "id": "5ab3f588",
   "metadata": {},
   "outputs": [],
   "source": []
  }
 ],
 "metadata": {
  "kernelspec": {
   "display_name": "Python 3 (ipykernel)",
   "language": "python",
   "name": "python3"
  },
  "language_info": {
   "codemirror_mode": {
    "name": "ipython",
    "version": 3
   },
   "file_extension": ".py",
   "mimetype": "text/x-python",
   "name": "python",
   "nbconvert_exporter": "python",
   "pygments_lexer": "ipython3",
   "version": "3.11.5"
  }
 },
 "nbformat": 4,
 "nbformat_minor": 5
}
