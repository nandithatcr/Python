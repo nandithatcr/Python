{
 "cells": [
  {
   "cell_type": "code",
   "execution_count": 1,
   "id": "c98a1ea5",
   "metadata": {},
   "outputs": [
    {
     "name": "stdout",
     "output_type": "stream",
     "text": [
      "1.24.3\n"
     ]
    }
   ],
   "source": [
    "import numpy as np\n",
    "print (np.__version__)"
   ]
  },
  {
   "cell_type": "markdown",
   "id": "ade343f1",
   "metadata": {},
   "source": [
    "NumPy (Numerical Python) is one of the most fundamental and widely-used libraries in Python for numerical computing. It provides powerful data structures, tools, and functions for performing mathematical operations on large, multi-dimensional arrays and matrices.\n",
    "\n",
    "NumPy is an essential library for numerical and scientific computing in Python. It provides an efficient way to handle large datasets, perform complex mathematical operations, and interface with other scientific libraries."
   ]
  },
  {
   "cell_type": "code",
   "execution_count": 2,
   "id": "23bf513f",
   "metadata": {},
   "outputs": [
    {
     "name": "stdout",
     "output_type": "stream",
     "text": [
      "[1 2 3 4 5]\n",
      "<class 'numpy.ndarray'>\n"
     ]
    }
   ],
   "source": [
    "arr = np.array([1,2,3,4,5])\n",
    "print(arr)\n",
    "print(type(arr))"
   ]
  },
  {
   "cell_type": "markdown",
   "id": "44f045a2",
   "metadata": {},
   "source": [
    "# Use a tuple to create an nd array"
   ]
  },
  {
   "cell_type": "code",
   "execution_count": 3,
   "id": "2cb5584b",
   "metadata": {},
   "outputs": [
    {
     "name": "stdout",
     "output_type": "stream",
     "text": [
      "[1 2 3 4 5]\n",
      "<class 'numpy.ndarray'>\n"
     ]
    }
   ],
   "source": [
    "arr = np.array((1,2,3,4,5))\n",
    "print(arr)\n",
    "print(type(arr))"
   ]
  },
  {
   "cell_type": "markdown",
   "id": "2277e74d",
   "metadata": {},
   "source": [
    "# 2D array"
   ]
  },
  {
   "cell_type": "code",
   "execution_count": 8,
   "id": "8d118317",
   "metadata": {},
   "outputs": [
    {
     "name": "stdout",
     "output_type": "stream",
     "text": [
      "[[ 1  2  3  4  5]\n",
      " [ 6  7  8  9 10]]\n"
     ]
    }
   ],
   "source": [
    "arr = np.array([[1,2,3,4,5],[6,7,8,9,10]])\n",
    "print(arr)"
   ]
  },
  {
   "cell_type": "code",
   "execution_count": 9,
   "id": "442e7ee2",
   "metadata": {},
   "outputs": [
    {
     "name": "stdout",
     "output_type": "stream",
     "text": [
      "[[[ 1  2  3]\n",
      "  [ 4  5  6]\n",
      "  [ 7  8  9]\n",
      "  [10 11 12]]]\n"
     ]
    }
   ],
   "source": [
    "arr = np.array([[[1,2,3],[4,5,6],[7,8,9],[10,11,12]]])\n",
    "print(arr)"
   ]
  },
  {
   "cell_type": "code",
   "execution_count": 11,
   "id": "ddf77801",
   "metadata": {},
   "outputs": [
    {
     "name": "stdout",
     "output_type": "stream",
     "text": [
      "1\n",
      "2\n",
      "3\n",
      "0\n"
     ]
    }
   ],
   "source": [
    "a = np.array([1,2,3,4,5])\n",
    "b = np.array([[1,2,3,4,5],[6,7,8,9,10]])\n",
    "c = np.array([[[1,2,3],[4,5,6],[7,8,9],[10,11,12]]])\n",
    "d = np.array(42)\n",
    "print(a.ndim)\n",
    "print(b.ndim)\n",
    "print(c.ndim)\n",
    "print(d.ndim)"
   ]
  },
  {
   "cell_type": "markdown",
   "id": "f77bbe2d",
   "metadata": {},
   "source": [
    "# Accessing Array Elements"
   ]
  },
  {
   "cell_type": "code",
   "execution_count": 12,
   "id": "a35f895d",
   "metadata": {},
   "outputs": [
    {
     "name": "stdout",
     "output_type": "stream",
     "text": [
      "1\n"
     ]
    }
   ],
   "source": [
    "import numpy as np\n",
    "arr = np.array([1,2,3,4])\n",
    "print(arr[0])"
   ]
  },
  {
   "cell_type": "code",
   "execution_count": 15,
   "id": "69167de8",
   "metadata": {},
   "outputs": [
    {
     "name": "stdout",
     "output_type": "stream",
     "text": [
      "2\n",
      "8\n",
      "6\n"
     ]
    }
   ],
   "source": [
    "arr = np.array([[1,2,3,4],[5,6,7,8]])\n",
    "print(arr[0,1]) #here 1,2,3,4 is oth row and 5,6,7,8 is 1st row inside that position of element\n",
    "print(arr[1,3])\n",
    "\n",
    "arr2 = np.array([[1, 2, 3], [4, 5, 6]])\n",
    "print(arr2[1, 2])  # Output: 6 (second row, third column)"
   ]
  },
  {
   "cell_type": "code",
   "execution_count": 94,
   "id": "9b51a0a4",
   "metadata": {},
   "outputs": [
    {
     "name": "stdout",
     "output_type": "stream",
     "text": [
      "Dimension is : 3\n",
      "7\n",
      "10\n",
      "Dimension is : 3\n",
      "14\n",
      "16\n",
      "17\n",
      "15\n"
     ]
    }
   ],
   "source": [
    "import numpy as np\n",
    "arr = np.array([[[1,3,4],[5,6,7]],[[8,9,10],[11,12,13]]])\n",
    "print(f\"Dimension is : {arr.ndim}\")\n",
    "print(arr[0,1,2])\n",
    "print(arr[1,0,2])\n",
    "arr1 = np.array([[[1, 2, 3], [4, 5, 6], [7, 8, 9]], \n",
    "                [[10, 11, 12], [13, 14, 15], [16, 17, 18]]])\n",
    "print(f\"Dimension is : {arr1.ndim}\")\n",
    "print(arr1[1,1,1])\n",
    "print(arr1[1,2,0])\n",
    "print(arr1[1,2,-2])\n",
    "print(arr1[1,1,-1])"
   ]
  },
  {
   "cell_type": "markdown",
   "id": "1651ae6c",
   "metadata": {},
   "source": [
    "# Slicing in Arrays"
   ]
  },
  {
   "cell_type": "markdown",
   "id": "6485802f",
   "metadata": {},
   "source": [
    "# Slicing of 1D Array"
   ]
  },
  {
   "cell_type": "code",
   "execution_count": 39,
   "id": "e92717fd",
   "metadata": {},
   "outputs": [
    {
     "name": "stdout",
     "output_type": "stream",
     "text": [
      "[array([2, 3, 4, 5])]\n"
     ]
    }
   ],
   "source": [
    "import numpy as np\n",
    "arr = np.array([1,2,3,4,5,6,7])\n",
    "print([arr[1:5]])"
   ]
  },
  {
   "cell_type": "code",
   "execution_count": 52,
   "id": "f2f536fc",
   "metadata": {},
   "outputs": [
    {
     "name": "stdout",
     "output_type": "stream",
     "text": [
      "[2 3 4 5]\n",
      "[5 6 7]\n",
      "[1 2 3 4]\n",
      "[]\n",
      "[5 6]\n"
     ]
    }
   ],
   "source": [
    "import numpy as np\n",
    "arr = np.array([1,2,3,4,5,6,7])\n",
    "print(arr[1:5])\n",
    "#Slices the array starting at index 1 up to (but not including) index 5.\n",
    "#This returns the elements at indices [1, 2, 3, 4] (i.e., [2, 3, 4, 5]).\n",
    "\n",
    "print(arr[4:])\n",
    "#Slices the array starting from index 4 and goes until the end\n",
    "\n",
    "print(arr[:4])\n",
    "#Slices the array from the beginning (index 0) up to (but not including) index 4.\n",
    "\n",
    "print(arr[-3:-5])\n",
    "\n",
    "#This is using negative indexing, where:\n",
    "#-3 refers to the 3rd element from the end of the array (which is 5).\n",
    "#-5 refers to the 5th element from the end of the array (which is 3).\n",
    "#Since the start index (-3) is greater than the end index (-5), this will return an empty array because the slice direction is reversed.\n",
    "\n",
    "print(arr[-3:-1])"
   ]
  },
  {
   "cell_type": "markdown",
   "id": "b7779c1c",
   "metadata": {},
   "source": [
    "# Slicing of 2D array"
   ]
  },
  {
   "cell_type": "code",
   "execution_count": 67,
   "id": "1c9508d9",
   "metadata": {},
   "outputs": [
    {
     "name": "stdout",
     "output_type": "stream",
     "text": [
      "[7 8 9]\n",
      "[3 8]\n",
      "[[2 3 4]\n",
      " [7 8 9]]\n",
      "[4 5]\n",
      "[[ 8  9 10]]\n",
      "Dimension is : 2\n",
      "[[11 13 15]]\n"
     ]
    }
   ],
   "source": [
    "import numpy as np\n",
    "arr = np.array([[1,2,3,4,5],[6,7,8,9,10]])\n",
    "print(arr[1,1:4])\n",
    "print(arr[0:2,2])\n",
    "print(arr[0:2,1:4])\n",
    "print(arr[0,3:5])\n",
    "print(arr[1:,2:])\n",
    "\n",
    "arr1 = np.array([[1,2,3,4,5],[6,7,8,9,10],[11,12,13,14,15],[16,17,18,19,20]])\n",
    "print(f\"Dimension is : {arr1.ndim}\")\n",
    "print(arr1[2::2,::2])"
   ]
  },
  {
   "cell_type": "markdown",
   "id": "a6e8c864",
   "metadata": {},
   "source": [
    "2::2 (row slicing):\n",
    "\n",
    "Start at index 2 (third row, which is [11, 12, 13, 14, 15]).\n",
    "Use a step of 2, which means selecting every second row starting from index 2. So, this will pick rows at index 2 and 4 (but since arr1 only has 4 rows, it only picks row 2).\n",
    "Therefore, it selects the third row: [11, 12, 13, 14, 15].\n",
    "::2 (column slicing):\n",
    "\n",
    "This selects every second column from the selected rows, starting from the first column (index 0).\n",
    "So, from [11, 12, 13, 14, 15], it selects columns at indices 0, 2, 4, which gives [11, 13, 15]."
   ]
  },
  {
   "cell_type": "markdown",
   "id": "831d4bac",
   "metadata": {},
   "source": [
    "# Notes"
   ]
  },
  {
   "cell_type": "markdown",
   "id": "db99e6df",
   "metadata": {},
   "source": [
    "1) You access elements using row index and column index. The syntax is arr[row, column].\n",
    "\n",
    "Example:  print(arr_2d[0, 1]) Accesses the element in the first row and second column.\n",
    "\n",
    "2) You can slice a 2D array to select specific rows and columns. The slicing syntax is arr[start_row:end_row, start_col:end_col].\n",
    "\n",
    "\n",
    "3) In a 3D array, you access elements using three indices: arr[block, row, column].\n",
    "\n",
    "Example: print(arr_3d[1, 0, 2])  # Accesses the second block, first row, third column\n",
    "\n",
    "4) You can slice a 3D array in a similar way to a 2D array, but with an extra index for the \"depth\" (blocks). The syntax is arr[start_block:end_block, start_row:end_row, start_col:end_col].\n",
    "\n",
    "print(arr_3d[0:, 1:, 1:])  # Selects all blocks, starting from the second row and second column\n"
   ]
  },
  {
   "cell_type": "markdown",
   "id": "6e73fc99",
   "metadata": {},
   "source": [
    "# Dataypes in Numpy"
   ]
  },
  {
   "cell_type": "code",
   "execution_count": 69,
   "id": "4eef55fc",
   "metadata": {},
   "outputs": [
    {
     "name": "stdout",
     "output_type": "stream",
     "text": [
      "int32\n",
      "<U6\n"
     ]
    }
   ],
   "source": [
    "import numpy as np\n",
    "arr = np.array(['apple','banana'])\n",
    "arr1 = np.array([1,2,3,4])\n",
    "print(arr1.dtype)\n",
    "print(arr.dtype)"
   ]
  },
  {
   "cell_type": "code",
   "execution_count": 78,
   "id": "0df1a26a",
   "metadata": {},
   "outputs": [
    {
     "name": "stdout",
     "output_type": "stream",
     "text": [
      "[b'1' b'2' b'3' b'4']\n",
      "|S1\n"
     ]
    }
   ],
   "source": [
    "import numpy as np\n",
    "arr = np.array([1,2,3,4],dtype = 'S')\n",
    "print(arr)\n",
    "print(arr.dtype)"
   ]
  },
  {
   "cell_type": "code",
   "execution_count": 80,
   "id": "6175368f",
   "metadata": {},
   "outputs": [
    {
     "name": "stdout",
     "output_type": "stream",
     "text": [
      "[b'1' b'22' b'3222' b'4']\n",
      "|S4\n"
     ]
    }
   ],
   "source": [
    "import numpy as np\n",
    "arr = np.array([1,22,3222,4],dtype = 'S')\n",
    "print(arr)\n",
    "print(arr.dtype)"
   ]
  },
  {
   "cell_type": "markdown",
   "id": "e36967a9",
   "metadata": {},
   "source": [
    "Array Creation with dtype='S':\n",
    "\n",
    "dtype='S' means that each element of the array will be stored as a byte string.\n",
    "The size of each string is determined by the length of the string when it's converted to a byte.\n",
    "\n",
    "The | denotes the byte-order, which is platform-dependent (for most systems, it's little-endian).\n",
    "S1 means that each string is 1 byte in length."
   ]
  },
  {
   "cell_type": "code",
   "execution_count": 81,
   "id": "681a06a8",
   "metadata": {},
   "outputs": [
    {
     "name": "stdout",
     "output_type": "stream",
     "text": [
      "['1' '2' '3' '4']\n",
      "<U1\n"
     ]
    }
   ],
   "source": [
    "import numpy as np\n",
    "arr = np.array([1,2,3,4],dtype = 'U')\n",
    "print(arr)\n",
    "print(arr.dtype)"
   ]
  },
  {
   "cell_type": "markdown",
   "id": "1b44c225",
   "metadata": {},
   "source": [
    "Here, each element is a regular string, and the dtype='U1' indicates that each element is a Unicode string of length 1."
   ]
  },
  {
   "cell_type": "code",
   "execution_count": 82,
   "id": "c202dec3",
   "metadata": {},
   "outputs": [
    {
     "name": "stdout",
     "output_type": "stream",
     "text": [
      "['1' '222' '3' '4']\n",
      "<U3\n"
     ]
    }
   ],
   "source": [
    "import numpy as np\n",
    "arr = np.array([1,222,3,4],dtype = 'U')\n",
    "print(arr)\n",
    "print(arr.dtype)"
   ]
  },
  {
   "cell_type": "markdown",
   "id": "7320fb9f",
   "metadata": {},
   "source": [
    "# astype()"
   ]
  },
  {
   "cell_type": "code",
   "execution_count": 84,
   "id": "3b0ce670",
   "metadata": {},
   "outputs": [
    {
     "name": "stdout",
     "output_type": "stream",
     "text": [
      "[1 2 3 4]\n",
      "int32\n"
     ]
    }
   ],
   "source": [
    "arr = np.array([1.1,2.1,3.1,4.1])\n",
    "newarr = arr.astype('i')\n",
    "print(newarr)\n",
    "print(newarr.dtype)"
   ]
  },
  {
   "cell_type": "markdown",
   "id": "c8872634",
   "metadata": {},
   "source": [
    "1) The astype() method is used to cast (convert) the array to a different data type.\n",
    "2) 'i' in astype('i') specifies that you want to convert the array to an integer type. In NumPy, 'i' typically represents a signed integer (int32 or int64, depending on your system)."
   ]
  },
  {
   "cell_type": "markdown",
   "id": "0fdbabac",
   "metadata": {},
   "source": [
    "# Copy and View "
   ]
  },
  {
   "cell_type": "code",
   "execution_count": 85,
   "id": "8a0a4f26",
   "metadata": {},
   "outputs": [
    {
     "name": "stdout",
     "output_type": "stream",
     "text": [
      "[42  2  3  4  5]\n",
      "[1 2 3 4 5]\n"
     ]
    }
   ],
   "source": [
    "import numpy as np\n",
    "arr = np.array([1,2,3,4,5])\n",
    "x = arr.copy()\n",
    "arr[0] = 42\n",
    "print(arr)\n",
    "print(x)"
   ]
  },
  {
   "cell_type": "code",
   "execution_count": 86,
   "id": "59a1e3b3",
   "metadata": {},
   "outputs": [
    {
     "name": "stdout",
     "output_type": "stream",
     "text": [
      "[42  2  3  4  5]\n",
      "[42  2  3  4  5]\n"
     ]
    }
   ],
   "source": [
    "import numpy as np\n",
    "arr = np.array([1,2,3,4,5])\n",
    "x = arr.view()\n",
    "arr[0] = 42\n",
    "print(arr)\n",
    "print(x)"
   ]
  },
  {
   "cell_type": "code",
   "execution_count": 88,
   "id": "6c7f91ca",
   "metadata": {},
   "outputs": [
    {
     "name": "stdout",
     "output_type": "stream",
     "text": [
      "[2 3 4]\n",
      "Original Array: [ 1 99  3  4  5]\n",
      "View Array: [99  3  4]\n"
     ]
    }
   ],
   "source": [
    "import numpy as np\n",
    "\n",
    "# Create an original array\n",
    "arr = np.array([1, 2, 3, 4, 5])\n",
    "\n",
    "# Create a view of the original array\n",
    "view_arr = arr[1:4]\n",
    "print(view_arr)\n",
    "# Modify the view\n",
    "view_arr[0] = 99\n",
    "\n",
    "print(\"Original Array:\", arr)  # The original array is affected\n",
    "print(\"View Array:\", view_arr)\n"
   ]
  },
  {
   "cell_type": "code",
   "execution_count": 89,
   "id": "fb033f64",
   "metadata": {},
   "outputs": [
    {
     "name": "stdout",
     "output_type": "stream",
     "text": [
      "[1 2 3 4 5]\n",
      "None\n"
     ]
    }
   ],
   "source": [
    "import numpy as np\n",
    "arr = np.array([1,2,3,4,5])\n",
    "x = arr.view()\n",
    "y= arr.copy()\n",
    "print(x.base)\n",
    "print(y.base)"
   ]
  },
  {
   "cell_type": "markdown",
   "id": "f41e6227",
   "metadata": {},
   "source": [
    "# Numpy Array Shape"
   ]
  },
  {
   "cell_type": "code",
   "execution_count": 97,
   "id": "2221e6aa",
   "metadata": {},
   "outputs": [
    {
     "name": "stdout",
     "output_type": "stream",
     "text": [
      "(2, 4)\n"
     ]
    }
   ],
   "source": [
    "import numpy as np\n",
    "arr = np.array([[1,2,3,4],[5,6,7,8]])\n",
    "print(arr.shape)"
   ]
  },
  {
   "cell_type": "code",
   "execution_count": 102,
   "id": "d702197c",
   "metadata": {},
   "outputs": [
    {
     "name": "stdout",
     "output_type": "stream",
     "text": [
      "(4,)\n"
     ]
    }
   ],
   "source": [
    "import numpy as np\n",
    "arr = np.array([1,2,3,4])\n",
    "print(arr.shape)"
   ]
  },
  {
   "cell_type": "code",
   "execution_count": 113,
   "id": "d75a374d",
   "metadata": {},
   "outputs": [
    {
     "name": "stdout",
     "output_type": "stream",
     "text": [
      "[[[[[1 2 3 4]]]]]\n",
      "5\n",
      "(1, 1, 1, 1, 4)\n"
     ]
    }
   ],
   "source": [
    "import numpy as np\n",
    "\n",
    "arr = np.array([1, 2, 3, 4])\n",
    "reshaped_arr = arr.reshape((1, 1, 1, 1, 4))\n",
    "print(reshaped_arr)\n",
    "print(reshaped_arr.ndim)\n",
    "print(reshaped_arr.shape)"
   ]
  },
  {
   "cell_type": "code",
   "execution_count": 115,
   "id": "5f208a1a",
   "metadata": {},
   "outputs": [
    {
     "name": "stdout",
     "output_type": "stream",
     "text": [
      "[[[ 1  2]\n",
      "  [ 3  4]\n",
      "  [ 5  6]]\n",
      "\n",
      " [[ 7  8]\n",
      "  [ 9 10]\n",
      "  [11 12]]]\n"
     ]
    }
   ],
   "source": [
    "import numpy as np\n",
    "arr = np.array([1,2,3,4,5,6,7,8,9,10,11,12])\n",
    "newarr = arr.reshape(2,3,2)\n",
    "print(newarr)"
   ]
  },
  {
   "cell_type": "markdown",
   "id": "f99e0fb4",
   "metadata": {},
   "source": [
    "Here 2 outer array inside that 3 inner array and 2 elements inside that"
   ]
  },
  {
   "cell_type": "code",
   "execution_count": 110,
   "id": "658c7ed8",
   "metadata": {},
   "outputs": [
    {
     "name": "stdout",
     "output_type": "stream",
     "text": [
      "[[ 1  2  3]\n",
      " [ 4  5  6]\n",
      " [ 7  8  9]\n",
      " [10 11 12]]\n"
     ]
    }
   ],
   "source": [
    "import numpy as np\n",
    "arr = np.array([1,2,3,4,5,6,7,8,9,10,11,12])\n",
    "newarr = arr.reshape(4,3)\n",
    "print(newarr)"
   ]
  },
  {
   "cell_type": "markdown",
   "id": "8a3248df",
   "metadata": {},
   "source": [
    "Reshape accepts 2 args means it is a 2d array"
   ]
  },
  {
   "cell_type": "code",
   "execution_count": 116,
   "id": "3a75f941",
   "metadata": {},
   "outputs": [
    {
     "name": "stdout",
     "output_type": "stream",
     "text": [
      "[[[1 2]\n",
      "  [3 4]]\n",
      "\n",
      " [[5 6]\n",
      "  [7 8]]]\n"
     ]
    }
   ],
   "source": [
    "import numpy as np\n",
    "arr = np.array([1,2,3,4,5,6,7,8])\n",
    "newarr = arr.reshape(2,2,-1)\n",
    "print(newarr)"
   ]
  },
  {
   "cell_type": "markdown",
   "id": "70ec8a1c",
   "metadata": {},
   "source": [
    "If we dont know exact dimension in reshape method pass -1 numpy will calculate this number for u."
   ]
  },
  {
   "cell_type": "markdown",
   "id": "c38ff6fa",
   "metadata": {},
   "source": [
    "# Flattening of arrays"
   ]
  },
  {
   "cell_type": "markdown",
   "id": "3a342c97",
   "metadata": {},
   "source": [
    "Converting multidimensional array to 1D array is called flattening. reshape(-1) is used to flatten the array"
   ]
  },
  {
   "cell_type": "code",
   "execution_count": 117,
   "id": "97cb1232",
   "metadata": {},
   "outputs": [
    {
     "name": "stdout",
     "output_type": "stream",
     "text": [
      "[1 2 3 4 5 6]\n"
     ]
    }
   ],
   "source": [
    "import numpy as np\n",
    "arr = np.array([[1,2,3],[4,5,6]])\n",
    "newarr = arr.reshape(-1)\n",
    "print(newarr)"
   ]
  },
  {
   "cell_type": "markdown",
   "id": "b7ee66bf",
   "metadata": {},
   "source": [
    "# Numpy Array Iterating"
   ]
  },
  {
   "cell_type": "markdown",
   "id": "9959722c",
   "metadata": {},
   "source": [
    "# Iterating 1D array"
   ]
  },
  {
   "cell_type": "code",
   "execution_count": 118,
   "id": "afc52bb4",
   "metadata": {},
   "outputs": [
    {
     "name": "stdout",
     "output_type": "stream",
     "text": [
      "1\n",
      "2\n",
      "3\n"
     ]
    }
   ],
   "source": [
    "import numpy as np\n",
    "arr = np.array([1,2,3])\n",
    "for x in arr:\n",
    "    print(x)"
   ]
  },
  {
   "cell_type": "markdown",
   "id": "bcf9c24b",
   "metadata": {},
   "source": [
    "# Iterating 2D array"
   ]
  },
  {
   "cell_type": "code",
   "execution_count": 119,
   "id": "949674eb",
   "metadata": {},
   "outputs": [
    {
     "name": "stdout",
     "output_type": "stream",
     "text": [
      "[1 2 3]\n",
      "[4 5 6]\n"
     ]
    }
   ],
   "source": [
    "import numpy as np\n",
    "arr = np.array([[1,2,3],[4,5,6]])\n",
    "for x in arr:\n",
    "    print(x)"
   ]
  },
  {
   "cell_type": "markdown",
   "id": "0b903597",
   "metadata": {},
   "source": [
    "To get the scalar value add one more loop to iterate array in each dimension"
   ]
  },
  {
   "cell_type": "code",
   "execution_count": 120,
   "id": "109fdc5e",
   "metadata": {},
   "outputs": [
    {
     "name": "stdout",
     "output_type": "stream",
     "text": [
      "1\n",
      "2\n",
      "3\n",
      "4\n",
      "5\n",
      "6\n"
     ]
    }
   ],
   "source": [
    "import numpy as np\n",
    "arr = np.array([[1,2,3],[4,5,6]])\n",
    "for x in arr:\n",
    "    for y in x:\n",
    "        print(y)"
   ]
  },
  {
   "cell_type": "markdown",
   "id": "aa46d575",
   "metadata": {},
   "source": [
    "# Iterating 3D array"
   ]
  },
  {
   "cell_type": "code",
   "execution_count": 121,
   "id": "0fdfdd71",
   "metadata": {},
   "outputs": [
    {
     "name": "stdout",
     "output_type": "stream",
     "text": [
      "[[1 2 3]\n",
      " [4 5 6]]\n",
      "[[ 7  8  9]\n",
      " [10 11 12]]\n"
     ]
    }
   ],
   "source": [
    "import numpy as np\n",
    "arr = np.array([[[1,2,3],[4,5,6]],[[7,8,9],[10,11,12]]])\n",
    "for x in arr:\n",
    "    print(x)"
   ]
  },
  {
   "cell_type": "markdown",
   "id": "cf3ca70c",
   "metadata": {},
   "source": [
    "To get the scalar value iterate array in each dimension"
   ]
  },
  {
   "cell_type": "code",
   "execution_count": 122,
   "id": "112e69e0",
   "metadata": {},
   "outputs": [
    {
     "name": "stdout",
     "output_type": "stream",
     "text": [
      "1\n",
      "2\n",
      "3\n",
      "4\n",
      "5\n",
      "6\n",
      "7\n",
      "8\n",
      "9\n",
      "10\n",
      "11\n",
      "12\n"
     ]
    }
   ],
   "source": [
    "import numpy as np\n",
    "arr = np.array([[[1,2,3],[4,5,6]],[[7,8,9],[10,11,12]]])\n",
    "for x in arr:\n",
    "    for y in x:\n",
    "        for z in y:\n",
    "            print(z)"
   ]
  },
  {
   "cell_type": "markdown",
   "id": "215a1ddf",
   "metadata": {},
   "source": [
    "# Iterate array using nditer()"
   ]
  },
  {
   "cell_type": "code",
   "execution_count": 123,
   "id": "c987d6cf",
   "metadata": {},
   "outputs": [
    {
     "name": "stdout",
     "output_type": "stream",
     "text": [
      "1\n",
      "2\n",
      "3\n",
      "4\n",
      "5\n",
      "6\n",
      "7\n",
      "8\n",
      "9\n",
      "10\n",
      "11\n",
      "12\n"
     ]
    }
   ],
   "source": [
    "import numpy as np\n",
    "arr = np.array([[[1,2,3],[4,5,6]],[[7,8,9],[10,11,12]]])\n",
    "for x in np.nditer(arr):\n",
    "    print(x)"
   ]
  },
  {
   "cell_type": "markdown",
   "id": "8507f9f0",
   "metadata": {},
   "source": [
    "# Iterating array with different datatypes"
   ]
  },
  {
   "cell_type": "code",
   "execution_count": 132,
   "id": "d8ce1fe1",
   "metadata": {},
   "outputs": [
    {
     "name": "stdout",
     "output_type": "stream",
     "text": [
      "b'1'\n",
      "b'2'\n",
      "b'3'\n",
      "b'4'\n"
     ]
    }
   ],
   "source": [
    "import numpy as np\n",
    "\n",
    "arr = np.array([1, 2, 3, 4])\n",
    "for x in np.nditer(arr, flags=['buffered'], op_dtypes=['S']):\n",
    "    print(x)\n"
   ]
  },
  {
   "cell_type": "markdown",
   "id": "3d1957de",
   "metadata": {},
   "source": [
    "# Iterating with different step size"
   ]
  },
  {
   "cell_type": "code",
   "execution_count": 137,
   "id": "b192292e",
   "metadata": {},
   "outputs": [
    {
     "name": "stdout",
     "output_type": "stream",
     "text": [
      "1\n",
      "3\n",
      "5\n",
      "7\n"
     ]
    }
   ],
   "source": [
    "arr = np.array([[1,2,3],[5,6,7]])\n",
    "for x in np.nditer(arr[:,::2]):\n",
    "    print(x)"
   ]
  },
  {
   "cell_type": "code",
   "execution_count": 138,
   "id": "43bcec71",
   "metadata": {
    "scrolled": true
   },
   "outputs": [
    {
     "name": "stdout",
     "output_type": "stream",
     "text": [
      "1\n",
      "3\n"
     ]
    }
   ],
   "source": [
    "arr = np.array([[1,2,3],[5,6,7]])\n",
    "for x in np.nditer(arr[0,::2]):\n",
    "    print(x)"
   ]
  },
  {
   "cell_type": "markdown",
   "id": "be3fcc0f",
   "metadata": {},
   "source": [
    "# Enumerated iteration using ndenumerate"
   ]
  },
  {
   "cell_type": "code",
   "execution_count": 140,
   "id": "c44d5857",
   "metadata": {},
   "outputs": [
    {
     "name": "stdout",
     "output_type": "stream",
     "text": [
      "(0,) 1\n",
      "(1,) 2\n",
      "(2,) 3\n"
     ]
    }
   ],
   "source": [
    "import numpy as np\n",
    "arr = np.array([1,2,3])\n",
    "for index, value in np.ndenumerate(arr):\n",
    "    print(index,value)"
   ]
  },
  {
   "cell_type": "markdown",
   "id": "18c340c1",
   "metadata": {},
   "source": [
    "The np.ndenumerate() function in NumPy is a great way to iterate over each element in a multidimensional array along with their indices."
   ]
  },
  {
   "cell_type": "markdown",
   "id": "b2c84d83",
   "metadata": {},
   "source": [
    "# ndenumerate on 2 D array"
   ]
  },
  {
   "cell_type": "code",
   "execution_count": 141,
   "id": "3c797eac",
   "metadata": {},
   "outputs": [
    {
     "name": "stdout",
     "output_type": "stream",
     "text": [
      "Index: (0, 0), Value: 1\n",
      "Index: (0, 1), Value: 2\n",
      "Index: (1, 0), Value: 3\n",
      "Index: (1, 1), Value: 4\n"
     ]
    }
   ],
   "source": [
    "import numpy as np\n",
    "\n",
    "# Create a 2x2 array\n",
    "arr = np.array([[1, 2], [3, 4]])\n",
    "\n",
    "# Enumerate over the array\n",
    "for index, value in np.ndenumerate(arr):\n",
    "    print(f\"Index: {index}, Value: {value}\")\n"
   ]
  },
  {
   "cell_type": "markdown",
   "id": "bce4a077",
   "metadata": {},
   "source": [
    "# Numpy Joining Array"
   ]
  },
  {
   "cell_type": "markdown",
   "id": "0fc864ae",
   "metadata": {},
   "source": [
    "# Using Concatenate Function"
   ]
  },
  {
   "cell_type": "code",
   "execution_count": 143,
   "id": "0d2d2efd",
   "metadata": {},
   "outputs": [
    {
     "name": "stdout",
     "output_type": "stream",
     "text": [
      "[1 2 3 4 5 6]\n"
     ]
    }
   ],
   "source": [
    "import numpy as np\n",
    "arr1 = np.array([1,2,3])\n",
    "arr2 = np.array([4,5,6])\n",
    "arr = np.concatenate((arr1,arr2))\n",
    "print(arr)"
   ]
  },
  {
   "cell_type": "markdown",
   "id": "8562a7dc",
   "metadata": {},
   "source": [
    "axis is not specified means its stacked vertically"
   ]
  },
  {
   "cell_type": "code",
   "execution_count": 144,
   "id": "712141e0",
   "metadata": {},
   "outputs": [
    {
     "name": "stdout",
     "output_type": "stream",
     "text": [
      "[[1 2 5 6]\n",
      " [3 4 7 8]]\n"
     ]
    }
   ],
   "source": [
    "import numpy as np\n",
    "arr1 = np.array([[1,2],[3,4]])\n",
    "arr2 = np.array([[5,6],[7,8]])\n",
    "arr = np.concatenate((arr1,arr2),axis =1)\n",
    "print(arr)"
   ]
  },
  {
   "cell_type": "markdown",
   "id": "cb1c3fcf",
   "metadata": {},
   "source": [
    "The np.concatenate function combines arr1 and arr2 along the specified axis. Here, axis=1 means the arrays are concatenated horizontally, i.e., along the columns"
   ]
  },
  {
   "cell_type": "markdown",
   "id": "b7f5b5ff",
   "metadata": {},
   "source": [
    "# Joining arrays using stack functions"
   ]
  },
  {
   "cell_type": "code",
   "execution_count": 90,
   "id": "f909926d",
   "metadata": {},
   "outputs": [
    {
     "name": "stdout",
     "output_type": "stream",
     "text": [
      "[[1 2 3]\n",
      " [4 5 6]\n",
      " [4 5 6]\n",
      " [7 8 9]]\n"
     ]
    }
   ],
   "source": [
    "import numpy as np\n",
    "arr1 = np.array([[1,2,3],[4,5,6]])\n",
    "arr2 = np.array([[4,5,6],[7,8,9]])\n",
    "arr = np.vstack((arr1,arr2))\n",
    "print(arr)"
   ]
  },
  {
   "cell_type": "code",
   "execution_count": 96,
   "id": "35a81e4b",
   "metadata": {
    "scrolled": true
   },
   "outputs": [
    {
     "name": "stdout",
     "output_type": "stream",
     "text": [
      "[[[ 1  4]\n",
      "  [ 2  5]\n",
      "  [ 3  6]]\n",
      "\n",
      " [[41  7]\n",
      "  [53  8]\n",
      "  [64  9]]]\n"
     ]
    }
   ],
   "source": [
    "import numpy as np\n",
    "arr1 = np.array([[1,2,3],[41,53,64]])\n",
    "arr2 = np.array([[4,5,6],[7,8,9]])\n",
    "arr = np.dstack((arr1,arr2))\n",
    "print(arr)"
   ]
  },
  {
   "cell_type": "code",
   "execution_count": 155,
   "id": "f0055760",
   "metadata": {},
   "outputs": [
    {
     "name": "stdout",
     "output_type": "stream",
     "text": [
      "[[ 1  2  3  4  5  6]\n",
      " [41 53 64  7  8  9]]\n"
     ]
    }
   ],
   "source": [
    "import numpy as np\n",
    "arr1 = np.array([[1,2,3],[41,53,64]])\n",
    "arr2 = np.array([[4,5,6],[7,8,9]])\n",
    "arr = np.hstack((arr1,arr2))\n",
    "print(arr)"
   ]
  },
  {
   "cell_type": "code",
   "execution_count": 152,
   "id": "7cf210f1",
   "metadata": {},
   "outputs": [
    {
     "name": "stdout",
     "output_type": "stream",
     "text": [
      "[[1 5]\n",
      " [2 6]\n",
      " [3 7]\n",
      " [4 8]]\n"
     ]
    }
   ],
   "source": [
    "import numpy as np\n",
    "arr1 = np.array([1,2,3,4])\n",
    "arr2 = np.array([5,6,7,8])\n",
    "arr = np.stack((arr1,arr2),axis =1)\n",
    "print(arr)"
   ]
  },
  {
   "cell_type": "code",
   "execution_count": 156,
   "id": "c8aad345",
   "metadata": {},
   "outputs": [
    {
     "name": "stdout",
     "output_type": "stream",
     "text": [
      "[[1 2 3 4]\n",
      " [5 6 7 8]]\n",
      "2\n"
     ]
    }
   ],
   "source": [
    "import numpy as np\n",
    "arr1 = np.array([1,2,3,4])\n",
    "arr2 = np.array([5,6,7,8])\n",
    "arr = np.vstack((arr1,arr2))\n",
    "print(arr)\n",
    "print(arr.ndim)"
   ]
  },
  {
   "cell_type": "code",
   "execution_count": 157,
   "id": "0dd36cd7",
   "metadata": {},
   "outputs": [
    {
     "name": "stdout",
     "output_type": "stream",
     "text": [
      "[1 2 3 4 5 6 7 8]\n",
      "1\n"
     ]
    }
   ],
   "source": [
    "import numpy as np\n",
    "arr1 = np.array([1,2,3,4])\n",
    "arr2 = np.array([5,6,7,8])\n",
    "arr = np.hstack((arr1,arr2))\n",
    "print(arr)\n",
    "print(arr.ndim)"
   ]
  },
  {
   "cell_type": "code",
   "execution_count": 95,
   "id": "6bb9ea68",
   "metadata": {},
   "outputs": [
    {
     "name": "stdout",
     "output_type": "stream",
     "text": [
      "[[[ 1  3  4 14 34 44]\n",
      "  [ 5  6  7 54 64 75]]\n",
      "\n",
      " [[ 8  9 10 86 97 10]\n",
      "  [11 12 13 14 17 34]]]\n"
     ]
    }
   ],
   "source": [
    "import numpy as np\n",
    "arr1 =np.array([[[1,3,4],[5,6,7]],[[8,9,10],[11,12,13]]])\n",
    "arr2 =arr = np.array([[[14,34,44],[54,64,75]],[[86,97,10],[14,17,34]]])\n",
    "arr = np.dstack((arr1,arr2))\n",
    "print(arr)"
   ]
  },
  {
   "cell_type": "markdown",
   "id": "3e7a8b2f",
   "metadata": {},
   "source": [
    "# Numpy Splitting Arrays"
   ]
  },
  {
   "cell_type": "code",
   "execution_count": 168,
   "id": "0d5a3733",
   "metadata": {},
   "outputs": [
    {
     "name": "stdout",
     "output_type": "stream",
     "text": [
      "[array([1, 2]), array([3, 4]), array([5])]\n"
     ]
    }
   ],
   "source": [
    "import numpy as np\n",
    "arr= np.array([1,2,3,4,5,])\n",
    "newarr = np.array_split(arr,3)\n",
    "print(newarr)"
   ]
  },
  {
   "cell_type": "markdown",
   "id": "25a9bb69",
   "metadata": {},
   "source": [
    "we use array_split() for splitting arrays. If the array has less elements than required it will adjust from end accordingly"
   ]
  },
  {
   "cell_type": "code",
   "execution_count": 169,
   "id": "9928f204",
   "metadata": {},
   "outputs": [
    {
     "name": "stdout",
     "output_type": "stream",
     "text": [
      "[array([1, 2]), array([3, 4]), array([5]), array([6])]\n"
     ]
    }
   ],
   "source": [
    "import numpy as np\n",
    "arr= np.array([1,2,3,4,5,6])\n",
    "newarr = np.array_split(arr,4)\n",
    "print(newarr)"
   ]
  },
  {
   "cell_type": "code",
   "execution_count": 171,
   "id": "ded7e2cd",
   "metadata": {},
   "outputs": [
    {
     "name": "stdout",
     "output_type": "stream",
     "text": [
      "[1 2]\n",
      "[3 4]\n",
      "[5]\n"
     ]
    }
   ],
   "source": [
    "import numpy as np\n",
    "arr= np.array([1,2,3,4,5,])\n",
    "newarr = np.array_split(arr,3)\n",
    "print(newarr[0])\n",
    "print(newarr[1])\n",
    "print(newarr[2])"
   ]
  },
  {
   "cell_type": "code",
   "execution_count": 174,
   "id": "c48a4f59",
   "metadata": {},
   "outputs": [
    {
     "name": "stdout",
     "output_type": "stream",
     "text": [
      "[array([[1, 2],\n",
      "       [3, 4]]), array([[5, 6],\n",
      "       [7, 8]]), array([[ 9, 10],\n",
      "       [11, 12]])]\n"
     ]
    }
   ],
   "source": [
    "import numpy as np\n",
    "arr =np.array([[1,2],[3,4],[5,6],[7,8],[9,10],[11,12]])\n",
    "newarr = np.array_split(arr,3)\n",
    "print(newarr)"
   ]
  },
  {
   "cell_type": "code",
   "execution_count": 177,
   "id": "48c5ae98",
   "metadata": {},
   "outputs": [
    {
     "name": "stdout",
     "output_type": "stream",
     "text": [
      "[array([[1, 2, 3],\n",
      "       [4, 5, 6]]), array([[ 7,  8,  9],\n",
      "       [10, 11, 12]]), array([[13, 14, 15],\n",
      "       [17, 18, 19]])]\n"
     ]
    }
   ],
   "source": [
    "import numpy as np\n",
    "arr = np.array([[1,2,3],[4,5,6],[7,8,9],[10,11,12],[13,14,15],[17,18,19]])\n",
    "newarr = np.array_split(arr,3,axis=0)\n",
    "print(newarr)"
   ]
  },
  {
   "cell_type": "code",
   "execution_count": 178,
   "id": "f4de9c71",
   "metadata": {},
   "outputs": [
    {
     "name": "stdout",
     "output_type": "stream",
     "text": [
      "[array([[ 1],\n",
      "       [ 4],\n",
      "       [ 7],\n",
      "       [10],\n",
      "       [13],\n",
      "       [17]]), array([[ 2],\n",
      "       [ 5],\n",
      "       [ 8],\n",
      "       [11],\n",
      "       [14],\n",
      "       [18]]), array([[ 3],\n",
      "       [ 6],\n",
      "       [ 9],\n",
      "       [12],\n",
      "       [15],\n",
      "       [19]])]\n"
     ]
    }
   ],
   "source": [
    "import numpy as np\n",
    "arr = np.array([[1,2,3],[4,5,6],[7,8,9],[10,11,12],[13,14,15],[17,18,19]])\n",
    "newarr = np.array_split(arr,3,axis=1)\n",
    "print(newarr)"
   ]
  },
  {
   "cell_type": "markdown",
   "id": "7ccdb71d",
   "metadata": {},
   "source": [
    "# hsplit() vsplit() dsplit()"
   ]
  },
  {
   "cell_type": "code",
   "execution_count": 160,
   "id": "f713cd63",
   "metadata": {},
   "outputs": [
    {
     "name": "stdout",
     "output_type": "stream",
     "text": [
      "[array([[1, 2, 3],\n",
      "       [4, 5, 6]]), array([[ 7,  8,  9],\n",
      "       [10, 11, 12]]), array([[13, 14, 15],\n",
      "       [16, 17, 18]])]\n"
     ]
    }
   ],
   "source": [
    "import numpy as np\n",
    "\n",
    "arr = np.array([[1, 2, 3], [4, 5, 6], [7, 8, 9], [10, 11, 12], [13,\n",
    "14, 15], [16, 17, 18]])\n",
    "\n",
    "newarr = np.vsplit(arr, 3)\n",
    "\n",
    "print(newarr)"
   ]
  },
  {
   "cell_type": "code",
   "execution_count": 161,
   "id": "b54174ec",
   "metadata": {},
   "outputs": [
    {
     "name": "stdout",
     "output_type": "stream",
     "text": [
      "[array([[ 1],\n",
      "       [ 4],\n",
      "       [ 7],\n",
      "       [10],\n",
      "       [13],\n",
      "       [16]]), array([[ 2],\n",
      "       [ 5],\n",
      "       [ 8],\n",
      "       [11],\n",
      "       [14],\n",
      "       [17]]), array([[ 3],\n",
      "       [ 6],\n",
      "       [ 9],\n",
      "       [12],\n",
      "       [15],\n",
      "       [18]])]\n"
     ]
    }
   ],
   "source": [
    "import numpy as np\n",
    "\n",
    "arr = np.array([[1, 2, 3], [4, 5, 6], [7, 8, 9], [10, 11, 12], [13,\n",
    "14, 15], [16, 17, 18]])\n",
    "\n",
    "newarr = np.hsplit(arr, 3)\n",
    "\n",
    "print(newarr)"
   ]
  },
  {
   "cell_type": "code",
   "execution_count": 166,
   "id": "f3c060f2",
   "metadata": {},
   "outputs": [
    {
     "name": "stdout",
     "output_type": "stream",
     "text": [
      "(2, 2, 3)\n",
      "[array([[[ 1],\n",
      "        [ 4]],\n",
      "\n",
      "       [[ 7],\n",
      "        [10]]]), array([[[ 2],\n",
      "        [ 5]],\n",
      "\n",
      "       [[ 8],\n",
      "        [11]]]), array([[[ 3],\n",
      "        [ 6]],\n",
      "\n",
      "       [[ 9],\n",
      "        [12]]])]\n"
     ]
    }
   ],
   "source": [
    "import numpy as np\n",
    "\n",
    "arr = np.array([[[1, 2, 3], [4, 5, 6]], [[7, 8, 9], [10, 11, 12]]])\n",
    "print(arr.shape)\n",
    "newarr = np.dsplit(arr, 3)\n",
    "\n",
    "print(newarr)"
   ]
  },
  {
   "cell_type": "code",
   "execution_count": 181,
   "id": "65f2637b",
   "metadata": {
    "scrolled": true
   },
   "outputs": [
    {
     "ename": "ValueError",
     "evalue": "dsplit only works on arrays of 3 or more dimensions",
     "output_type": "error",
     "traceback": [
      "\u001b[1;31m---------------------------------------------------------------------------\u001b[0m",
      "\u001b[1;31mValueError\u001b[0m                                Traceback (most recent call last)",
      "Cell \u001b[1;32mIn[181], line 4\u001b[0m\n\u001b[0;32m      1\u001b[0m \u001b[38;5;28;01mimport\u001b[39;00m \u001b[38;5;21;01mnumpy\u001b[39;00m \u001b[38;5;28;01mas\u001b[39;00m \u001b[38;5;21;01mnp\u001b[39;00m\n\u001b[0;32m      2\u001b[0m arr \u001b[38;5;241m=\u001b[39m np\u001b[38;5;241m.\u001b[39marray([[\u001b[38;5;241m1\u001b[39m, \u001b[38;5;241m2\u001b[39m, \u001b[38;5;241m3\u001b[39m], [\u001b[38;5;241m4\u001b[39m, \u001b[38;5;241m5\u001b[39m, \u001b[38;5;241m6\u001b[39m], [\u001b[38;5;241m7\u001b[39m, \u001b[38;5;241m8\u001b[39m, \u001b[38;5;241m9\u001b[39m], [\u001b[38;5;241m10\u001b[39m, \u001b[38;5;241m11\u001b[39m, \u001b[38;5;241m12\u001b[39m], [\u001b[38;5;241m13\u001b[39m,\n\u001b[0;32m      3\u001b[0m \u001b[38;5;241m14\u001b[39m, \u001b[38;5;241m15\u001b[39m], [\u001b[38;5;241m16\u001b[39m, \u001b[38;5;241m17\u001b[39m, \u001b[38;5;241m18\u001b[39m]])\n\u001b[1;32m----> 4\u001b[0m newarr \u001b[38;5;241m=\u001b[39m np\u001b[38;5;241m.\u001b[39mdsplit(arr, \u001b[38;5;241m3\u001b[39m)\n\u001b[0;32m      5\u001b[0m \u001b[38;5;28mprint\u001b[39m(newarr)\n",
      "File \u001b[1;32m<__array_function__ internals>:200\u001b[0m, in \u001b[0;36mdsplit\u001b[1;34m(*args, **kwargs)\u001b[0m\n",
      "File \u001b[1;32m~\\anaconda3\\Lib\\site-packages\\numpy\\lib\\shape_base.py:1041\u001b[0m, in \u001b[0;36mdsplit\u001b[1;34m(ary, indices_or_sections)\u001b[0m\n\u001b[0;32m   1002\u001b[0m \u001b[38;5;250m\u001b[39m\u001b[38;5;124;03m\"\"\"\u001b[39;00m\n\u001b[0;32m   1003\u001b[0m \u001b[38;5;124;03mSplit array into multiple sub-arrays along the 3rd axis (depth).\u001b[39;00m\n\u001b[0;32m   1004\u001b[0m \n\u001b[1;32m   (...)\u001b[0m\n\u001b[0;32m   1038\u001b[0m \u001b[38;5;124;03marray([], shape=(2, 2, 0), dtype=float64)]\u001b[39;00m\n\u001b[0;32m   1039\u001b[0m \u001b[38;5;124;03m\"\"\"\u001b[39;00m\n\u001b[0;32m   1040\u001b[0m \u001b[38;5;28;01mif\u001b[39;00m _nx\u001b[38;5;241m.\u001b[39mndim(ary) \u001b[38;5;241m<\u001b[39m \u001b[38;5;241m3\u001b[39m:\n\u001b[1;32m-> 1041\u001b[0m     \u001b[38;5;28;01mraise\u001b[39;00m \u001b[38;5;167;01mValueError\u001b[39;00m(\u001b[38;5;124m'\u001b[39m\u001b[38;5;124mdsplit only works on arrays of 3 or more dimensions\u001b[39m\u001b[38;5;124m'\u001b[39m)\n\u001b[0;32m   1042\u001b[0m \u001b[38;5;28;01mreturn\u001b[39;00m split(ary, indices_or_sections, \u001b[38;5;241m2\u001b[39m)\n",
      "\u001b[1;31mValueError\u001b[0m: dsplit only works on arrays of 3 or more dimensions"
     ]
    }
   ],
   "source": [
    "import numpy as np\n",
    "arr = np.array([[1, 2, 3], [4, 5, 6], [7, 8, 9], [10, 11, 12], [13,\n",
    "14, 15], [16, 17, 18]])\n",
    "newarr = np.dsplit(arr, 3)\n",
    "print(newarr)"
   ]
  },
  {
   "cell_type": "markdown",
   "id": "e32dc350",
   "metadata": {},
   "source": [
    "See the above exasmple dsplit only works in an 3D arrays"
   ]
  },
  {
   "cell_type": "markdown",
   "id": "389ec99e",
   "metadata": {},
   "source": [
    "# Numpy searching arrays"
   ]
  },
  {
   "cell_type": "markdown",
   "id": "1be26fd3",
   "metadata": {},
   "source": [
    "we can search for a ceratin value in an array and return the indexes that get a match. To search an array use where() method"
   ]
  },
  {
   "cell_type": "code",
   "execution_count": 179,
   "id": "d1d84838",
   "metadata": {},
   "outputs": [
    {
     "name": "stdout",
     "output_type": "stream",
     "text": [
      "(array([1, 3, 5, 7, 9], dtype=int64),)\n",
      "(array([0, 2, 4, 6, 8], dtype=int64),)\n"
     ]
    }
   ],
   "source": [
    "import numpy as np\n",
    "arr = np.array([1,2,3,4,5,6,7,8,9,10])\n",
    "x = np.where(arr % 2 == 0)\n",
    "y = np.where(arr % 2 == 1)\n",
    "print(x)\n",
    "print(y)"
   ]
  },
  {
   "cell_type": "markdown",
   "id": "d2ed594d",
   "metadata": {},
   "source": [
    "# Search sorted"
   ]
  },
  {
   "cell_type": "code",
   "execution_count": 189,
   "id": "d578a12c",
   "metadata": {},
   "outputs": [
    {
     "name": "stdout",
     "output_type": "stream",
     "text": [
      "1\n"
     ]
    }
   ],
   "source": [
    "import numpy as np\n",
    "arr = np.array([6,7,8,9])\n",
    "x = np.searchsorted(arr,7)\n",
    "print(x)"
   ]
  },
  {
   "cell_type": "markdown",
   "id": "bd1e174d",
   "metadata": {},
   "source": [
    "searchsorted will return the index position of element we are searching"
   ]
  },
  {
   "cell_type": "code",
   "execution_count": 250,
   "id": "e8161b66",
   "metadata": {},
   "outputs": [
    {
     "name": "stdout",
     "output_type": "stream",
     "text": [
      "3\n"
     ]
    }
   ],
   "source": [
    "import numpy as np\n",
    "x = np.array([10, 4, 11, 13, 6, 20])\n",
    "4,5,6,10,11,20\n",
    "index = np.searchsorted(x, 12)\n",
    "print(index)"
   ]
  },
  {
   "cell_type": "code",
   "execution_count": 251,
   "id": "8402f258",
   "metadata": {},
   "outputs": [
    {
     "name": "stdout",
     "output_type": "stream",
     "text": [
      "0\n"
     ]
    }
   ],
   "source": [
    "import numpy as np\n",
    "x = np.array([10, 4, 11, 5, 6, 20])\n",
    "4,5,6,10,11,20\n",
    "index = np.searchsorted(x, 1, side='right')\n",
    "print(index) #check the next element if its large consider next position. like that it goes"
   ]
  },
  {
   "cell_type": "code",
   "execution_count": 209,
   "id": "12e136f5",
   "metadata": {},
   "outputs": [
    {
     "name": "stdout",
     "output_type": "stream",
     "text": [
      "6\n",
      "[ 4  5  6  7 10 11 20]\n"
     ]
    }
   ],
   "source": [
    "import numpy as np\n",
    "x = np.array([4,5,6,7,10,11,20])\n",
    "index = np.searchsorted(x, 12, side='left')\n",
    "print(index)\n",
    "print(x)"
   ]
  },
  {
   "cell_type": "code",
   "execution_count": 219,
   "id": "c49e2d83",
   "metadata": {},
   "outputs": [
    {
     "name": "stdout",
     "output_type": "stream",
     "text": [
      "1\n"
     ]
    }
   ],
   "source": [
    "arr =np.array([6,7,8,9])\n",
    "x = np.searchsorted(arr,7,side='left')\n",
    "print(x)"
   ]
  },
  {
   "cell_type": "code",
   "execution_count": 216,
   "id": "d0716733",
   "metadata": {},
   "outputs": [
    {
     "name": "stdout",
     "output_type": "stream",
     "text": [
      "2\n"
     ]
    }
   ],
   "source": [
    "arr =np.array([6,7,8,9])\n",
    "x = np.searchsorted(arr,7,side='right')\n",
    "print(x)"
   ]
  },
  {
   "cell_type": "markdown",
   "id": "ea5cf20a",
   "metadata": {},
   "source": [
    "The np.searchsorted function finds the index where the value 7 should be inserted to maintain order. The side='right' parameter specifies that the insertion should be to the right of any existing entries of 7."
   ]
  },
  {
   "cell_type": "code",
   "execution_count": 222,
   "id": "5ee6047d",
   "metadata": {},
   "outputs": [
    {
     "name": "stdout",
     "output_type": "stream",
     "text": [
      "1\n"
     ]
    }
   ],
   "source": [
    "arr =np.array([5,6,7,8,9])\n",
    "x = np.searchsorted(arr,5,side='right')\n",
    "print(x)"
   ]
  },
  {
   "cell_type": "code",
   "execution_count": 228,
   "id": "0db5aef5",
   "metadata": {},
   "outputs": [
    {
     "name": "stdout",
     "output_type": "stream",
     "text": [
      "[1 2 3]\n"
     ]
    }
   ],
   "source": [
    "import numpy as np\n",
    "arr= np.array([1,3,5,7])\n",
    "x =np.searchsorted(arr,[3,4,6])\n",
    "print(x)"
   ]
  },
  {
   "cell_type": "markdown",
   "id": "d22a7198",
   "metadata": {},
   "source": [
    "# Numpy sorting arrays"
   ]
  },
  {
   "cell_type": "code",
   "execution_count": 229,
   "id": "9363b90c",
   "metadata": {},
   "outputs": [
    {
     "name": "stdout",
     "output_type": "stream",
     "text": [
      "[0 1 2 3]\n"
     ]
    }
   ],
   "source": [
    "arr = np.array([3,2,0,1])\n",
    "print(np.sort(arr))"
   ]
  },
  {
   "cell_type": "code",
   "execution_count": 230,
   "id": "5b900a68",
   "metadata": {},
   "outputs": [
    {
     "name": "stdout",
     "output_type": "stream",
     "text": [
      "['apple' 'banana' 'cherry']\n"
     ]
    }
   ],
   "source": [
    "arr = np.array(['banana','apple','cherry'])\n",
    "print(np.sort(arr))"
   ]
  },
  {
   "cell_type": "code",
   "execution_count": 231,
   "id": "2cd22994",
   "metadata": {},
   "outputs": [
    {
     "name": "stdout",
     "output_type": "stream",
     "text": [
      "[False  True  True]\n"
     ]
    }
   ],
   "source": [
    "arr = np.sort([True,False,True])\n",
    "print(np.sort(arr))"
   ]
  },
  {
   "cell_type": "markdown",
   "id": "438524f8",
   "metadata": {},
   "source": [
    "# Sorting a 2D array"
   ]
  },
  {
   "cell_type": "code",
   "execution_count": 232,
   "id": "3fc45411",
   "metadata": {},
   "outputs": [
    {
     "name": "stdout",
     "output_type": "stream",
     "text": [
      "[[2 3 4]\n",
      " [0 1 5]]\n"
     ]
    }
   ],
   "source": [
    "arr =np.array([[3,2,4],[5,0,1]])\n",
    "print(np.sort(arr))"
   ]
  },
  {
   "cell_type": "markdown",
   "id": "50801d5c",
   "metadata": {},
   "source": [
    "# Numpy Filter Array"
   ]
  },
  {
   "cell_type": "code",
   "execution_count": 233,
   "id": "6a88822e",
   "metadata": {},
   "outputs": [
    {
     "name": "stdout",
     "output_type": "stream",
     "text": [
      "[41 43]\n"
     ]
    }
   ],
   "source": [
    "import numpy as np\n",
    "arr = np.array([41,42,43,44])\n",
    "x = [True,False,True,False]\n",
    "newarr = arr[x]\n",
    "print(newarr)"
   ]
  },
  {
   "cell_type": "code",
   "execution_count": 235,
   "id": "a5d361cf",
   "metadata": {},
   "outputs": [
    {
     "name": "stdout",
     "output_type": "stream",
     "text": [
      "[False, False, True, True]\n",
      "[43 44]\n"
     ]
    }
   ],
   "source": [
    "import numpy as np\n",
    "arr = np.array([41,42,43,44])\n",
    "filter_arr = []\n",
    "for element in arr:\n",
    "    \n",
    "    if element > 42:\n",
    "        filter_arr.append(True)\n",
    "    else:\n",
    "        filter_arr.append(False)\n",
    "newarr = arr[filter_arr]\n",
    "print(filter_arr)\n",
    "print(newarr)"
   ]
  },
  {
   "cell_type": "code",
   "execution_count": 236,
   "id": "f28495a4",
   "metadata": {},
   "outputs": [
    {
     "name": "stdout",
     "output_type": "stream",
     "text": [
      "[False, True, False, True, False, True, False, True, False]\n",
      "[2 4 6 8]\n"
     ]
    }
   ],
   "source": [
    "import numpy as np\n",
    "arr = np.array([1,2,3,4,5,6,7,8,9])\n",
    "filter_arr = []\n",
    "for element in arr:\n",
    "    \n",
    "    if element % 2 == 0:\n",
    "        filter_arr.append(True)\n",
    "    else:\n",
    "        filter_arr.append(False)\n",
    "newarr = arr[filter_arr]\n",
    "print(filter_arr)\n",
    "print(newarr)"
   ]
  },
  {
   "cell_type": "code",
   "execution_count": 238,
   "id": "f69ce7c0",
   "metadata": {},
   "outputs": [
    {
     "name": "stdout",
     "output_type": "stream",
     "text": [
      "[43 44]\n"
     ]
    }
   ],
   "source": [
    "import numpy as np\n",
    "arr = np.array([41,42,43,44])\n",
    "filter_arr = arr> 42\n",
    "newarr = arr[filter_arr]\n",
    "#print(filter_arr)\n",
    "print(newarr)"
   ]
  },
  {
   "cell_type": "markdown",
   "id": "753096bf",
   "metadata": {},
   "source": [
    "# Generate random number and array "
   ]
  },
  {
   "cell_type": "code",
   "execution_count": 260,
   "id": "09202a35",
   "metadata": {},
   "outputs": [
    {
     "name": "stdout",
     "output_type": "stream",
     "text": [
      "x is : 83\n",
      "y is : 0.1685743325620126\n",
      "z is  [89 40 26 35  0]\n",
      "a is: [[37 77 93 58 99]\n",
      " [ 5  2 85 50 36]\n",
      " [14 85 97 24  2]]\n",
      "b is: [0.40618388 0.18908484 0.60152694 0.05755579 0.07308377]\n",
      "c is: [[0.84667687 0.19045145 0.69481348 0.12222508 0.26414008]\n",
      " [0.51029034 0.53709251 0.99236727 0.83048467 0.77260121]\n",
      " [0.5248696  0.13757438 0.45038073 0.88332029 0.1900831 ]]\n"
     ]
    }
   ],
   "source": [
    "from numpy import random\n",
    "x = random.randint(100)\n",
    "print('x is :', x)\n",
    "y = random.rand()\n",
    "print('y is :', y)\n",
    "z = random.randint(100,size = (5))\n",
    "print('z is ',z)\n",
    "a = random.randint(100,size=(3,5))\n",
    "print('a is:',a)\n",
    "b = random.rand(5)\n",
    "print('b is:', b)\n",
    "c = random.rand(3,5)\n",
    "print('c is:',c) "
   ]
  },
  {
   "cell_type": "markdown",
   "id": "1f2d0d55",
   "metadata": {},
   "source": [
    "# Choice method"
   ]
  },
  {
   "cell_type": "code",
   "execution_count": 269,
   "id": "8cb552f7",
   "metadata": {},
   "outputs": [
    {
     "name": "stdout",
     "output_type": "stream",
     "text": [
      "Random value is  5\n",
      "Random 2D array is: [[7 7 5 5 9]\n",
      " [5 3 7 3 5]\n",
      " [9 9 7 7 3]]\n",
      "1D array with defined probability is: [5 5 5 5 7 5 3 7 5 5 5 3 5 7 7 5 5 7 5 5 5 5 7 3 7 3 3 5 7 7 5 7 7 7 7 5 7\n",
      " 7 7 5 7 5 7 5 7 5 5 5 7 7 7 5 5 7 7 5 5 7 7 5 7 7 7 5 5 5 7 5 3 5 7 7 7 5\n",
      " 7 7 3 7 7 5 7 3 7 7 7 5 7 3 7 5 7 7 7 7 7 3 5 7 7 5]\n",
      "2D array with defined probability is: [[5 5 5 7 7]\n",
      " [5 7 5 7 3]\n",
      " [7 7 7 7 7]]\n"
     ]
    }
   ],
   "source": [
    "randval = random.choice([3,5,7,9])\n",
    "print(\"Random value is \",randval)\n",
    "randval2 = random.choice([3,5,7,9],size = (3,5))\n",
    "print('Random 2D array is:', randval2)\n",
    "\n",
    "randval3  = random.choice([3,5,7,9],p = [0.1,0.3,0.6,0.0],size=100)\n",
    "print(\"1D array with defined probability is:\",randval3)\n",
    "\n",
    "randval4 = random.choice([3,5,7,9],p=[0.1,0.3,0.6,0.0],size=(3,5))\n",
    "print(\"2D array with defined probability is:\", randval4)\n",
    "\n"
   ]
  },
  {
   "cell_type": "markdown",
   "id": "197554b9",
   "metadata": {},
   "source": [
    "# Shuffling and Permutation"
   ]
  },
  {
   "cell_type": "code",
   "execution_count": 273,
   "id": "b9f1c7c6",
   "metadata": {},
   "outputs": [
    {
     "name": "stdout",
     "output_type": "stream",
     "text": [
      "The input array is : [2 3 4 1 5]\n",
      "Array after applying shuffle function is  None\n",
      "The input array is  [5, 6, 8, 23, 56]\n",
      "Array after applying permuatation function is  [ 8  5 23 56  6]\n"
     ]
    }
   ],
   "source": [
    "arr = np.array([1,2,3,4,5])\n",
    "arr2 = random.shuffle(arr)\n",
    "print(\"The input array is :\", arr)\n",
    "print(\"Array after applying shuffle function is \",arr2)\n",
    "arr1 = [5,6,8,23,56]\n",
    "newarr1 = random.permutation(arr1)\n",
    "print(\"The input array is \",arr1)\n",
    "print(\"Array after applying permuatation function is \",newarr1)"
   ]
  },
  {
   "cell_type": "markdown",
   "id": "778895b5",
   "metadata": {},
   "source": [
    "1) Using random.shuffle:\n",
    "random.shuffle shuffles the array in place and returns None.\n",
    "Therefore, arr2 will be None.\n",
    "\n",
    "2) Using random.permutation from NumPy:\n",
    "random.permutation is not a function in the random module but in NumPy. It returns a new array with the elements permuted."
   ]
  },
  {
   "cell_type": "code",
   "execution_count": null,
   "id": "12b8f996",
   "metadata": {},
   "outputs": [],
   "source": []
  }
 ],
 "metadata": {
  "kernelspec": {
   "display_name": "Python 3 (ipykernel)",
   "language": "python",
   "name": "python3"
  },
  "language_info": {
   "codemirror_mode": {
    "name": "ipython",
    "version": 3
   },
   "file_extension": ".py",
   "mimetype": "text/x-python",
   "name": "python",
   "nbconvert_exporter": "python",
   "pygments_lexer": "ipython3",
   "version": "3.11.5"
  }
 },
 "nbformat": 4,
 "nbformat_minor": 5
}
