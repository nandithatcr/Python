{
 "cells": [
  {
   "cell_type": "markdown",
   "id": "c1e3c467",
   "metadata": {},
   "source": [
    "# Program to reverse the string"
   ]
  },
  {
   "cell_type": "code",
   "execution_count": 10,
   "id": "0160ca3a",
   "metadata": {},
   "outputs": [
    {
     "name": "stdout",
     "output_type": "stream",
     "text": [
      "Enter a string: Nanditha\n",
      "<class 'str'>\n",
      "Reversed String is:  ahtidnaN\n"
     ]
    }
   ],
   "source": [
    "input_string = input(str(\"Enter a string: \"))\n",
    "#print(type(input_string))\n",
    "rev_str = input_string[::-1]\n",
    "print(\"Reversed String is: \", rev_str)"
   ]
  },
  {
   "cell_type": "markdown",
   "id": "4ba0d1fc",
   "metadata": {},
   "source": [
    "# Program to find the largest number in list"
   ]
  },
  {
   "cell_type": "code",
   "execution_count": 89,
   "id": "0a9d944a",
   "metadata": {},
   "outputs": [
    {
     "name": "stdout",
     "output_type": "stream",
     "text": [
      "Enter number of elements : 5\n",
      "10\n",
      "20\n",
      "30\n",
      "45\n",
      "50\n"
     ]
    },
    {
     "data": {
      "text/plain": [
       "50"
      ]
     },
     "execution_count": 89,
     "metadata": {},
     "output_type": "execute_result"
    }
   ],
   "source": [
    "def largest(list):\n",
    "    big = max(lst)\n",
    "    return big\n",
    "\n",
    "n = int(input(\"Enter number of elements : \"))\n",
    "lst=[]\n",
    "for i in range(0, n):\n",
    "    ele = int(input())\n",
    "    # adding the element\n",
    "    lst.append(ele) \n",
    "largest(lst)"
   ]
  },
  {
   "cell_type": "markdown",
   "id": "2a34643e",
   "metadata": {},
   "source": [
    "# Check number is prime"
   ]
  },
  {
   "cell_type": "code",
   "execution_count": 25,
   "id": "f7ac7282",
   "metadata": {},
   "outputs": [
    {
     "name": "stdout",
     "output_type": "stream",
     "text": [
      "30 is not a prime number.\n"
     ]
    }
   ],
   "source": [
    "import math\n",
    "\n",
    "def is_prime(n):\n",
    "    # If n is less than 2, it is not prime\n",
    "    if n <= 1:\n",
    "        return False\n",
    "    # Check divisibility from 2 to sqrt(n)\n",
    "    for i in range(2, int(math.sqrt(n)) + 1):\n",
    "        if n % i == 0:\n",
    "            return False\n",
    "    return True\n",
    "\n",
    "# Test the function\n",
    "number = 30\n",
    "if is_prime(number):\n",
    "    print(f\"{number} is a prime number.\")\n",
    "else:\n",
    "    print(f\"{number} is not a prime number.\")\n"
   ]
  },
  {
   "cell_type": "markdown",
   "id": "563f1c86",
   "metadata": {},
   "source": [
    "# Count the vowels in string"
   ]
  },
  {
   "cell_type": "code",
   "execution_count": 69,
   "id": "e917a9ca",
   "metadata": {},
   "outputs": [
    {
     "name": "stdout",
     "output_type": "stream",
     "text": [
      "Enter the string:apple\n",
      "2\n"
     ]
    }
   ],
   "source": [
    "input_str = input(str(\"Enter the string:\" ))\n",
    "counter = 0\n",
    "for i in input_str:\n",
    "    if i in ['a','e','i','o','u','A','E','I','O','U']:\n",
    "        counter+=1\n",
    "print (counter)"
   ]
  },
  {
   "cell_type": "markdown",
   "id": "7c5e165e",
   "metadata": {},
   "source": [
    "# Swap two numbers with and without thrid variable"
   ]
  },
  {
   "cell_type": "code",
   "execution_count": 70,
   "id": "d875aba2",
   "metadata": {},
   "outputs": [
    {
     "name": "stdout",
     "output_type": "stream",
     "text": [
      "Value of a 10\n",
      "Value of b 5\n"
     ]
    }
   ],
   "source": [
    "a = 5\n",
    "b = 10\n",
    "temp = a\n",
    "a =b\n",
    "b = temp\n",
    "print(\"Value of a\",a)\n",
    "print(\"Value of b\",b)"
   ]
  },
  {
   "cell_type": "code",
   "execution_count": 71,
   "id": "03beb83b",
   "metadata": {},
   "outputs": [
    {
     "name": "stdout",
     "output_type": "stream",
     "text": [
      "Value of a 10\n",
      "Value of b 5\n"
     ]
    }
   ],
   "source": [
    "a = 5\n",
    "b = 10\n",
    "a,b = b,a\n",
    "print(\"Value of a\",a)\n",
    "print(\"Value of b\",b)"
   ]
  },
  {
   "cell_type": "markdown",
   "id": "18ecb4a8",
   "metadata": {},
   "source": [
    "# Palindrome"
   ]
  },
  {
   "cell_type": "code",
   "execution_count": 90,
   "id": "58dc85aa",
   "metadata": {},
   "outputs": [
    {
     "name": "stdout",
     "output_type": "stream",
     "text": [
      "Enter the string: malayalam\n",
      "Palindrome\n"
     ]
    }
   ],
   "source": [
    "input_str = input(\"Enter the string: \")\n",
    "n = len(input_str)\n",
    "# Check if the string is a palindrome\n",
    "is_palindrome = True  # Assume it's a palindrome\n",
    "for i in range(n // 2):  # Only need to check up to the middle of the string\n",
    "    if input_str[i] != input_str[n - i - 1]:\n",
    "        is_palindrome = False  # If any characters don't match, it's not a palindrome\n",
    "        break\n",
    "if is_palindrome:\n",
    "    print(\"Palindrome\")\n",
    "else:\n",
    "    print(\"Not a palindrome\")   "
   ]
  },
  {
   "cell_type": "markdown",
   "id": "12fd82b2",
   "metadata": {},
   "source": [
    "# Fibonacci series"
   ]
  },
  {
   "cell_type": "code",
   "execution_count": 114,
   "id": "c7244873",
   "metadata": {},
   "outputs": [
    {
     "name": "stdout",
     "output_type": "stream",
     "text": [
      "enter the number:1\n",
      "[0]\n"
     ]
    }
   ],
   "source": [
    "n = int(input(\"enter the number:\"))\n",
    "lst=[0,1]\n",
    "for i in range(0,n-2):\n",
    "    print(i)\n",
    "    sum = lst[i] + lst[-1]\n",
    "    lst.append(sum)\n",
    "print(lst[:n])"
   ]
  },
  {
   "cell_type": "code",
   "execution_count": 104,
   "id": "b02fe816",
   "metadata": {},
   "outputs": [
    {
     "name": "stdout",
     "output_type": "stream",
     "text": [
      "Enter the number of terms: 2\n",
      "Fibonacci series: 0 1 "
     ]
    }
   ],
   "source": [
    "n = int(input(\"Enter the number of terms: \"))\n",
    "\n",
    "a, b = 0, 1\n",
    "print(\"Fibonacci series:\", end=\" \")\n",
    "\n",
    "for _ in range(n):\n",
    "    print(a, end=\" \")\n",
    "    a, b = b, a + b"
   ]
  },
  {
   "cell_type": "code",
   "execution_count": 118,
   "id": "0f68117a",
   "metadata": {},
   "outputs": [
    {
     "name": "stdout",
     "output_type": "stream",
     "text": [
      "[1, 2]\n",
      "[3, 4, 5]\n",
      "5\n",
      "4\n"
     ]
    }
   ],
   "source": [
    "lst = [1,2,3,4,5]\n",
    "print(lst[:2])\n",
    "print(lst[2:])\n",
    "print(lst[-1])\n",
    "print(lst[-2])"
   ]
  },
  {
   "cell_type": "markdown",
   "id": "025276aa",
   "metadata": {},
   "source": [
    "# Prime Or not"
   ]
  },
  {
   "cell_type": "code",
   "execution_count": 180,
   "id": "e1025513",
   "metadata": {},
   "outputs": [
    {
     "name": "stdout",
     "output_type": "stream",
     "text": [
      "Enter the number: 11\n",
      "Prime\n"
     ]
    }
   ],
   "source": [
    "n = int(input(\"Enter the number: \"))\n",
    "flag = 0   \n",
    "if n==0:\n",
    "    print(\"Neither prime nor composite\")\n",
    "else:\n",
    "    for i in range(2,int(math.sqrt(n))):\n",
    "        if n%i == 0:\n",
    "            flag = 1\n",
    "            break\n",
    "        else:\n",
    "            flag = 0\n",
    "    if (flag ==1):\n",
    "        print(\"Not Prime\")\n",
    "    else:\n",
    "        print(\"Prime\")"
   ]
  },
  {
   "cell_type": "code",
   "execution_count": 174,
   "id": "70b441de",
   "metadata": {},
   "outputs": [
    {
     "name": "stdout",
     "output_type": "stream",
     "text": [
      "2.6457513110645907\n"
     ]
    }
   ],
   "source": [
    "print(math.sqrt(7))"
   ]
  },
  {
   "cell_type": "markdown",
   "id": "b57196d1",
   "metadata": {},
   "source": [
    "# Factorial"
   ]
  },
  {
   "cell_type": "code",
   "execution_count": 217,
   "id": "f43219d3",
   "metadata": {},
   "outputs": [
    {
     "name": "stdout",
     "output_type": "stream",
     "text": [
      "Enter a number: 4\n",
      "The factorial of 4 is 24\n"
     ]
    }
   ],
   "source": [
    "def factorial(n):\n",
    "    result = 1\n",
    "    for i in range(1, n + 1):\n",
    "        result *= i\n",
    "    return result\n",
    "\n",
    "number = int(input(\"Enter a number: \"))\n",
    "print(f\"The factorial of {number} is {factorial(number)}\")\n"
   ]
  },
  {
   "cell_type": "markdown",
   "id": "23635a3c",
   "metadata": {},
   "source": [
    "# Function to check if an element exist in List"
   ]
  },
  {
   "cell_type": "code",
   "execution_count": 17,
   "id": "fca0d05b",
   "metadata": {},
   "outputs": [
    {
     "name": "stdout",
     "output_type": "stream",
     "text": [
      "Enter the list3 6 7 8\n",
      "Enter the element to be checked: 2\n",
      "Element is not there in list\n"
     ]
    }
   ],
   "source": [
    "def check(n):\n",
    "    if n in inputlist:\n",
    "        print('Element is there in list: ')\n",
    "    else:\n",
    "        print('Element is not there in list')\n",
    "inputlist= input('Enter the list') \n",
    "n=input('Enter the element to be checked: ')\n",
    "check(n)"
   ]
  },
  {
   "cell_type": "markdown",
   "id": "4d136587",
   "metadata": {},
   "source": [
    "# Sum of all even numbers in list"
   ]
  },
  {
   "cell_type": "code",
   "execution_count": 18,
   "id": "6d8566c7",
   "metadata": {},
   "outputs": [
    {
     "name": "stdout",
     "output_type": "stream",
     "text": [
      "Enter the list of numbers separated by spaces: 2 4 7 8 9 4 3\n",
      "Sum of even numbers: 18\n"
     ]
    }
   ],
   "source": [
    "inputlist = list(map(int, input('Enter the list of numbers separated by spaces: ').split()))\n",
    "evenlist = []\n",
    "\n",
    "for i in inputlist:\n",
    "    if i % 2 == 0:  # Check if the number is even\n",
    "        evenlist.append(i)  # Append the even number to evenlist\n",
    "\n",
    "# Output the sum of even numbers\n",
    "print(\"Sum of even numbers:\", sum(evenlist))\n"
   ]
  },
  {
   "cell_type": "markdown",
   "id": "958dc8b1",
   "metadata": {},
   "source": [
    "1) input() reads input as a string.\n",
    "2) .split() breaks the string into a list of substrings.\n",
    "3) map(int, ...) converts each substring to an integer.\n",
    "4) list(...) collects all integers into a single list."
   ]
  },
  {
   "cell_type": "markdown",
   "id": "b9d91b56",
   "metadata": {},
   "source": [
    "#  Function to print the multiplication table of a number up to 10."
   ]
  },
  {
   "cell_type": "code",
   "execution_count": 1,
   "id": "8634b0f0",
   "metadata": {},
   "outputs": [
    {
     "name": "stdout",
     "output_type": "stream",
     "text": [
      "1 * 5 = 5\n",
      "2 * 5 = 10\n",
      "3 * 5 = 15\n",
      "4 * 5 = 20\n",
      "5 * 5 = 25\n",
      "6 * 5 = 30\n",
      "7 * 5 = 35\n",
      "8 * 5 = 40\n",
      "9 * 5 = 45\n",
      "10 * 5 = 50\n"
     ]
    }
   ],
   "source": [
    "def myMul(num):\n",
    "    for i in range(1,11):\n",
    "        value = i*num\n",
    "        print(f\"{i} * {num} = {value}\")\n",
    "myMul(5)    "
   ]
  },
  {
   "cell_type": "markdown",
   "id": "0df2a7a2",
   "metadata": {},
   "source": [
    "# Use a while loop to print the sum of the first 10 natural numbers\n"
   ]
  },
  {
   "cell_type": "code",
   "execution_count": 3,
   "id": "019730e9",
   "metadata": {},
   "outputs": [
    {
     "name": "stdout",
     "output_type": "stream",
     "text": [
      "Enter a number 4\n",
      "10\n"
     ]
    }
   ],
   "source": [
    "num= int(input(\"Enter a number \"))\n",
    "sum = 0\n",
    "i=0\n",
    "while i<=num:\n",
    "    sum = sum + i\n",
    "    i+=1\n",
    "print(sum)    "
   ]
  },
  {
   "cell_type": "markdown",
   "id": "f4a9fbbc",
   "metadata": {},
   "source": [
    "# Armstrong Number"
   ]
  },
  {
   "cell_type": "code",
   "execution_count": 6,
   "id": "a5480672",
   "metadata": {},
   "outputs": [
    {
     "name": "stdout",
     "output_type": "stream",
     "text": [
      "Enter the number 153\n",
      "Armstrong number\n"
     ]
    }
   ],
   "source": [
    "n = input('Enter the number ')\n",
    "length = len(n)\n",
    "integer_list = [int(num_str) for num_str in n]\n",
    "#print(integer_list)\n",
    "\n",
    "sum = 0\n",
    "for i in integer_list:\n",
    "    sum = sum + i**length\n",
    "# print(sum)\n",
    "# print(n)\n",
    "if sum == int(n):\n",
    "    print(\"Armstrong number\")\n",
    "else:\n",
    "    print(\"Not\")"
   ]
  },
  {
   "cell_type": "code",
   "execution_count": null,
   "id": "3df0e1e3",
   "metadata": {},
   "outputs": [],
   "source": []
  }
 ],
 "metadata": {
  "kernelspec": {
   "display_name": "Python 3 (ipykernel)",
   "language": "python",
   "name": "python3"
  },
  "language_info": {
   "codemirror_mode": {
    "name": "ipython",
    "version": 3
   },
   "file_extension": ".py",
   "mimetype": "text/x-python",
   "name": "python",
   "nbconvert_exporter": "python",
   "pygments_lexer": "ipython3",
   "version": "3.11.5"
  }
 },
 "nbformat": 4,
 "nbformat_minor": 5
}
