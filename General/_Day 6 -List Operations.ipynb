{
 "cells": [
  {
   "cell_type": "code",
   "execution_count": 3,
   "id": "a36b14bf",
   "metadata": {},
   "outputs": [
    {
     "name": "stdout",
     "output_type": "stream",
     "text": [
      "None\n"
     ]
    }
   ],
   "source": [
    "mylist = [1,2,3,4,5]\n",
    "result = mylist.append(6)\n",
    "print (result)  # here why assigning is not working ?"
   ]
  },
  {
   "cell_type": "code",
   "execution_count": 4,
   "id": "f5d31964",
   "metadata": {},
   "outputs": [
    {
     "name": "stdout",
     "output_type": "stream",
     "text": [
      "[1, 2, 3, 4, 5, 6]\n"
     ]
    }
   ],
   "source": [
    "mylist = [1,2,3,4,5]\n",
    "mylist.append(6)\n",
    "print (mylist) "
   ]
  },
  {
   "cell_type": "code",
   "execution_count": 5,
   "id": "d23affcf",
   "metadata": {},
   "outputs": [
    {
     "name": "stdout",
     "output_type": "stream",
     "text": [
      "[1, 2, 3, 4, 5]\n"
     ]
    }
   ],
   "source": [
    "mylist = [1,2,3]\n",
    "mylist.extend([4,5])\n",
    "print(mylist)"
   ]
  },
  {
   "cell_type": "code",
   "execution_count": 14,
   "id": "0f3b4700",
   "metadata": {},
   "outputs": [
    {
     "name": "stdout",
     "output_type": "stream",
     "text": [
      "[1, 'a', 2, 3]\n"
     ]
    }
   ],
   "source": [
    "mylist = [1,2,3]\n",
    "mylist.insert(1,'a')\n",
    "print(mylist)"
   ]
  },
  {
   "cell_type": "code",
   "execution_count": 77,
   "id": "581b209b",
   "metadata": {},
   "outputs": [
    {
     "name": "stdout",
     "output_type": "stream",
     "text": [
      "[1, 3, 4, 5, 2]\n"
     ]
    }
   ],
   "source": [
    "mylist = [1,2,3,4,5,2]\n",
    "mylist.remove(2)\n",
    "print(mylist) # it removes only first occurence of specified element"
   ]
  },
  {
   "cell_type": "code",
   "execution_count": 10,
   "id": "899c02b6",
   "metadata": {},
   "outputs": [
    {
     "name": "stdout",
     "output_type": "stream",
     "text": [
      "[1, 2, 4, 5]\n"
     ]
    }
   ],
   "source": [
    "mylist = [1,2,3,4,5]\n",
    "mylist.pop(2)\n",
    "print(mylist) # if we do not specify index it will remove the last element"
   ]
  },
  {
   "cell_type": "code",
   "execution_count": 78,
   "id": "8c0c358b",
   "metadata": {},
   "outputs": [
    {
     "name": "stdout",
     "output_type": "stream",
     "text": [
      "3\n",
      "[1, 2]\n"
     ]
    }
   ],
   "source": [
    "mylist = [1,2,3]\n",
    "result = mylist.pop() #if we call this function it returns the popped element\n",
    "print (result)\n",
    "print (mylist) "
   ]
  },
  {
   "cell_type": "code",
   "execution_count": 80,
   "id": "a38289d2",
   "metadata": {},
   "outputs": [
    {
     "name": "stdout",
     "output_type": "stream",
     "text": [
      "[]\n"
     ]
    }
   ],
   "source": [
    "mylist = [1,2,3]\n",
    "mylist.clear()\n",
    "print(mylist)"
   ]
  },
  {
   "cell_type": "code",
   "execution_count": 24,
   "id": "661b2614",
   "metadata": {},
   "outputs": [
    {
     "data": {
      "text/plain": [
       "3"
      ]
     },
     "execution_count": 24,
     "metadata": {},
     "output_type": "execute_result"
    }
   ],
   "source": [
    "mylist = [1,2,3,'apple',5,2]\n",
    "mylist.index('apple') # if the element is not found it will be an error."
   ]
  },
  {
   "cell_type": "code",
   "execution_count": 25,
   "id": "4ee71fe7",
   "metadata": {},
   "outputs": [
    {
     "name": "stdout",
     "output_type": "stream",
     "text": [
      "2\n",
      "4\n"
     ]
    }
   ],
   "source": [
    "my_list = [1, 2, 3, 4, 2, 5]\n",
    "\n",
    "# Find the index of the first occurrence of 2\n",
    "index1 = my_list.index(3) \n",
    "print(index1)  # Output: 2\n",
    "\n",
    "# Find the index of the first occurrence of 2 starting from index 2\n",
    "index2 = my_list.index(2, 2) \n",
    "print(index2)  # Output: 4"
   ]
  },
  {
   "cell_type": "code",
   "execution_count": 27,
   "id": "4561a590",
   "metadata": {},
   "outputs": [
    {
     "data": {
      "text/plain": [
       "4"
      ]
     },
     "execution_count": 27,
     "metadata": {},
     "output_type": "execute_result"
    }
   ],
   "source": [
    "mylist = [1,2,3,4,5,2,5,5,5]\n",
    "mylist.count(5)"
   ]
  },
  {
   "cell_type": "code",
   "execution_count": 35,
   "id": "f391d3a4",
   "metadata": {},
   "outputs": [
    {
     "name": "stdout",
     "output_type": "stream",
     "text": [
      "[1, 2, 3, 4, 7, 8, 9]\n"
     ]
    }
   ],
   "source": [
    "mylist = [8,3,4,7,1,2,9]\n",
    "mylist.sort()\n",
    "print (mylist)"
   ]
  },
  {
   "cell_type": "code",
   "execution_count": 37,
   "id": "4a889099",
   "metadata": {},
   "outputs": [
    {
     "name": "stdout",
     "output_type": "stream",
     "text": [
      "[9, 8, 7, 4, 3, 2, 1]\n"
     ]
    }
   ],
   "source": [
    "mylist.sort(reverse = True)\n",
    "print(mylist)"
   ]
  },
  {
   "cell_type": "code",
   "execution_count": 44,
   "id": "4d59a94e",
   "metadata": {},
   "outputs": [
    {
     "name": "stdout",
     "output_type": "stream",
     "text": [
      "['a', 'b', 'y', 'z']\n"
     ]
    }
   ],
   "source": [
    "mylist = ['z','a','y','b']\n",
    "mylist.sort()\n",
    "print(mylist)"
   ]
  },
  {
   "cell_type": "code",
   "execution_count": 43,
   "id": "a7d8e287",
   "metadata": {},
   "outputs": [
    {
     "ename": "TypeError",
     "evalue": "'<' not supported between instances of 'int' and 'str'",
     "output_type": "error",
     "traceback": [
      "\u001b[1;31m---------------------------------------------------------------------------\u001b[0m",
      "\u001b[1;31mTypeError\u001b[0m                                 Traceback (most recent call last)",
      "Cell \u001b[1;32mIn[43], line 2\u001b[0m\n\u001b[0;32m      1\u001b[0m mylist \u001b[38;5;241m=\u001b[39m [\u001b[38;5;124m'\u001b[39m\u001b[38;5;124mz\u001b[39m\u001b[38;5;124m'\u001b[39m,\u001b[38;5;124m'\u001b[39m\u001b[38;5;124mb\u001b[39m\u001b[38;5;124m'\u001b[39m,\u001b[38;5;124m'\u001b[39m\u001b[38;5;124mc\u001b[39m\u001b[38;5;124m'\u001b[39m,\u001b[38;5;241m1\u001b[39m,\u001b[38;5;241m3\u001b[39m]\n\u001b[1;32m----> 2\u001b[0m mylist\u001b[38;5;241m.\u001b[39msort()\n\u001b[0;32m      3\u001b[0m \u001b[38;5;28mprint\u001b[39m(mylist)\n",
      "\u001b[1;31mTypeError\u001b[0m: '<' not supported between instances of 'int' and 'str'"
     ]
    }
   ],
   "source": [
    "mylist = ['z','b','c',1,3]\n",
    "mylist.sort()\n",
    "print(mylist) # we can sort inetegrs and characters . But combination wont work"
   ]
  },
  {
   "cell_type": "code",
   "execution_count": 46,
   "id": "0633e9f6",
   "metadata": {},
   "outputs": [
    {
     "name": "stdout",
     "output_type": "stream",
     "text": [
      "[5, 4, 3, 2, 1, 9, 8]\n"
     ]
    }
   ],
   "source": [
    "mylist = [8,9,1,2,3,4,5]\n",
    "mylist.reverse()\n",
    "print (mylist)"
   ]
  },
  {
   "cell_type": "code",
   "execution_count": 47,
   "id": "30ef3524",
   "metadata": {},
   "outputs": [
    {
     "name": "stdout",
     "output_type": "stream",
     "text": [
      "[1, 2, 3]\n"
     ]
    }
   ],
   "source": [
    "mylist = [1,2,3]\n",
    "copylist = mylist.copy()\n",
    "print (copylist)"
   ]
  },
  {
   "cell_type": "code",
   "execution_count": 51,
   "id": "3771f45f",
   "metadata": {},
   "outputs": [
    {
     "name": "stdout",
     "output_type": "stream",
     "text": [
      "7\n"
     ]
    }
   ],
   "source": [
    "mylist = [1,2,3,4,5,'a','b']\n",
    "print(len(mylist))"
   ]
  },
  {
   "cell_type": "code",
   "execution_count": 61,
   "id": "d2f73ecc",
   "metadata": {},
   "outputs": [
    {
     "name": "stdout",
     "output_type": "stream",
     "text": [
      "Total: 6\n",
      "Minimum Value 1\n",
      "maximun Value 3\n"
     ]
    }
   ],
   "source": [
    "mylist = [1,2,3]\n",
    "total = sum(mylist)\n",
    "print(f'Total: {total}')\n",
    "min_value = min(mylist)\n",
    "print (f'Minimum Value {min_value}')\n",
    "max_value = max(mylist)\n",
    "print (f'maximun Value {max_value}')"
   ]
  },
  {
   "cell_type": "code",
   "execution_count": 62,
   "id": "f4fa2efd",
   "metadata": {},
   "outputs": [
    {
     "name": "stdout",
     "output_type": "stream",
     "text": [
      "['N', 'a', 'n', 'd', 'i', 't', 'h', 'a']\n"
     ]
    }
   ],
   "source": [
    "mystring = \"Nanditha\"\n",
    "mylist = list(mystring)\n",
    "print (mylist)"
   ]
  },
  {
   "cell_type": "code",
   "execution_count": 64,
   "id": "a484bf79",
   "metadata": {},
   "outputs": [],
   "source": [
    "fruits = ['apple','banana']\n",
    "del fruits"
   ]
  },
  {
   "cell_type": "markdown",
   "id": "51669613",
   "metadata": {},
   "source": [
    "# List Indexing"
   ]
  },
  {
   "cell_type": "code",
   "execution_count": 65,
   "id": "8a9a831e",
   "metadata": {},
   "outputs": [
    {
     "data": {
      "text/plain": [
       "30"
      ]
     },
     "execution_count": 65,
     "metadata": {},
     "output_type": "execute_result"
    }
   ],
   "source": [
    "mylist = [10,20,30,40,50]\n",
    "mylist[2]"
   ]
  },
  {
   "cell_type": "code",
   "execution_count": 66,
   "id": "1e96ee12",
   "metadata": {},
   "outputs": [
    {
     "data": {
      "text/plain": [
       "50"
      ]
     },
     "execution_count": 66,
     "metadata": {},
     "output_type": "execute_result"
    }
   ],
   "source": [
    "mylist [-1]"
   ]
  },
  {
   "cell_type": "code",
   "execution_count": 67,
   "id": "994c45bd",
   "metadata": {},
   "outputs": [
    {
     "name": "stdout",
     "output_type": "stream",
     "text": [
      "[20, 30, 40]\n"
     ]
    }
   ],
   "source": [
    "print(mylist[1:4])"
   ]
  },
  {
   "cell_type": "code",
   "execution_count": 68,
   "id": "d0a589ce",
   "metadata": {},
   "outputs": [
    {
     "name": "stdout",
     "output_type": "stream",
     "text": [
      "[10, 30, 50]\n"
     ]
    }
   ],
   "source": [
    "print(mylist[::2]) #2 counts but thats included"
   ]
  },
  {
   "cell_type": "code",
   "execution_count": 70,
   "id": "2fb9cbf7",
   "metadata": {},
   "outputs": [
    {
     "name": "stdout",
     "output_type": "stream",
     "text": [
      "[10, 20, 30]\n"
     ]
    }
   ],
   "source": [
    "mylist = [10,20,30,40,50]\n",
    "print(mylist[:3]) # start index is not specified so from starting till 2nd index as end is not inclusive."
   ]
  },
  {
   "cell_type": "code",
   "execution_count": 71,
   "id": "562401c1",
   "metadata": {},
   "outputs": [
    {
     "name": "stdout",
     "output_type": "stream",
     "text": [
      "[30, 40, 50]\n"
     ]
    }
   ],
   "source": [
    "print(mylist[2:])"
   ]
  },
  {
   "cell_type": "code",
   "execution_count": 72,
   "id": "d8f06462",
   "metadata": {},
   "outputs": [
    {
     "name": "stdout",
     "output_type": "stream",
     "text": [
      "[10, 20, 30, 40, 50]\n"
     ]
    }
   ],
   "source": [
    "print(mylist[:])"
   ]
  },
  {
   "cell_type": "code",
   "execution_count": 73,
   "id": "2c1de517",
   "metadata": {},
   "outputs": [
    {
     "name": "stdout",
     "output_type": "stream",
     "text": [
      "[1, 20, 4]\n"
     ]
    }
   ],
   "source": [
    "#We can add a new element to a list by specifying the index. Thats why list are mutable.\n",
    "mylist = [1,3,4]\n",
    "mylist[1] = 20\n",
    "print (mylist)"
   ]
  },
  {
   "cell_type": "code",
   "execution_count": null,
   "id": "4e9a6c2f",
   "metadata": {},
   "outputs": [],
   "source": []
  }
 ],
 "metadata": {
  "kernelspec": {
   "display_name": "Python 3 (ipykernel)",
   "language": "python",
   "name": "python3"
  },
  "language_info": {
   "codemirror_mode": {
    "name": "ipython",
    "version": 3
   },
   "file_extension": ".py",
   "mimetype": "text/x-python",
   "name": "python",
   "nbconvert_exporter": "python",
   "pygments_lexer": "ipython3",
   "version": "3.11.5"
  }
 },
 "nbformat": 4,
 "nbformat_minor": 5
}
