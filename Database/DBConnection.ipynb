{
 "cells": [
  {
   "cell_type": "markdown",
   "id": "402298ed",
   "metadata": {},
   "source": [
    "# Data Definition Language Using Python"
   ]
  },
  {
   "cell_type": "code",
   "execution_count": null,
   "id": "7e1baacc",
   "metadata": {},
   "outputs": [],
   "source": [
    "conda install -c anaconda mysql-connector-python"
   ]
  },
  {
   "cell_type": "code",
   "execution_count": 3,
   "id": "0b0973b3",
   "metadata": {},
   "outputs": [
    {
     "name": "stdout",
     "output_type": "stream",
     "text": [
      "<mysql.connector.connection.MySQLConnection object at 0x0000021E806CF310>\n"
     ]
    }
   ],
   "source": [
    "import mysql.connector\n",
    "connection = mysql.connector.connect(\n",
    "    host='localhost',  # Corrected: Only the host address here\n",
    "    port=3306,         # Specify the port separately\n",
    "    user='root',\n",
    "    password='Pnan2ms#1',\n",
    "    database='db_project',\n",
    "    use_pure= True)\n",
    "\n",
    "mycursor = connection.cursor()\n",
    "print(connection)"
   ]
  },
  {
   "cell_type": "code",
   "execution_count": 2,
   "id": "e2e13756",
   "metadata": {},
   "outputs": [
    {
     "name": "stdout",
     "output_type": "stream",
     "text": [
      "9.1.0\n"
     ]
    }
   ],
   "source": [
    "import mysql.connector\n",
    "print(mysql.connector.__version__)"
   ]
  },
  {
   "cell_type": "code",
   "execution_count": 9,
   "id": "d497a70b",
   "metadata": {},
   "outputs": [
    {
     "name": "stdout",
     "output_type": "stream",
     "text": [
      "<mysql.connector.connection.MySQLConnection object at 0x0000021E801ABC90>\n",
      "(1, 'Kuruveetil', 'Nanditha', '44 Downey Dr', 'Manchester')\n"
     ]
    }
   ],
   "source": [
    "import mysql.connector\n",
    "connection = mysql.connector.connect(\n",
    "    host='localhost',  # Corrected: Only the host address here\n",
    "    port=3306,         # Specify the port separately\n",
    "    user='root',\n",
    "    password='Pnan2ms#1',\n",
    "    database='db_project',\n",
    "    use_pure= True)\n",
    "\n",
    "mycursor = connection.cursor()\n",
    "print(connection)\n",
    "\n",
    "mycursor.execute(\"Select * from persons\")\n",
    "out = mycursor.fetchall()\n",
    "for x in out:\n",
    "    print(x)"
   ]
  },
  {
   "cell_type": "code",
   "execution_count": 18,
   "id": "227afd12",
   "metadata": {},
   "outputs": [
    {
     "name": "stdout",
     "output_type": "stream",
     "text": [
      "('dept',)\n",
      "('library',)\n",
      "('teacher',)\n"
     ]
    }
   ],
   "source": [
    "import mysql.connector\n",
    "connection = mysql.connector.connect(\n",
    "    host='localhost',  # Corrected: Only the host address here\n",
    "    port=3306,         # Specify the port separately\n",
    "    user='root',\n",
    "    password='Pnan2ms#1',\n",
    "    database='college',\n",
    "    use_pure= True)\n",
    "\n",
    "mycursor = connection.cursor()\n",
    "\n",
    "mycursor.execute(\"SHOW TABLES\")\n",
    "out = mycursor.fetchall()\n",
    "for x in out:\n",
    "    print(x)\n",
    "    \n",
    "#mycursor.execute(\"CREATE TABLE customers (name VARCHAR(255), address VARCHAR(255))\")    "
   ]
  },
  {
   "cell_type": "code",
   "execution_count": 17,
   "id": "0c0c0fa9",
   "metadata": {},
   "outputs": [
    {
     "name": "stdout",
     "output_type": "stream",
     "text": [
      "Table dropped\n"
     ]
    }
   ],
   "source": [
    "import mysql.connector\n",
    "mydb = mysql.connector.connect(\n",
    "    host='localhost',  # Corrected: Only the host address here\n",
    "    port=3306,         # Specify the port separately\n",
    "    user='root',\n",
    "    password='Pnan2ms#1',\n",
    "    database='college',\n",
    "    use_pure= True)\n",
    "mycursor = mydb.cursor()\n",
    "sql = \"DROP TABLE customers\"\n",
    "mycursor.execute(sql)\n",
    "print(\"Table dropped\")"
   ]
  },
  {
   "cell_type": "markdown",
   "id": "cba64541",
   "metadata": {},
   "source": [
    "# Data Manipulation Using Python"
   ]
  },
  {
   "cell_type": "markdown",
   "id": "8beda89d",
   "metadata": {},
   "source": [
    "Inserting single value"
   ]
  },
  {
   "cell_type": "code",
   "execution_count": 20,
   "id": "ad6c88b0",
   "metadata": {},
   "outputs": [
    {
     "name": "stdout",
     "output_type": "stream",
     "text": [
      "1 Record Inserted\n"
     ]
    }
   ],
   "source": [
    "import mysql.connector\n",
    "mydb = mysql.connector.connect(\n",
    "    host='localhost',  # Corrected: Only the host address here\n",
    "    port=3306,         # Specify the port separately\n",
    "    user='root',\n",
    "    password='Pnan2ms#1',\n",
    "    database='school',\n",
    "    use_pure= True)\n",
    "mycursor = mydb.cursor()\n",
    "sql = \"Insert into sub_details(sub_id,sub_name) values (%s,%s)\" \n",
    "# even though one value is integer dont use %d use %s itself. Sql automatically type convert the value\n",
    "\n",
    "val = (7,\"Physics\")\n",
    "mycursor.execute(sql,val)\n",
    "mydb.commit()\n",
    "print(mycursor.rowcount,\"Record Inserted\")"
   ]
  },
  {
   "cell_type": "markdown",
   "id": "1f479d38",
   "metadata": {},
   "source": [
    "Inserting Mutliple Values"
   ]
  },
  {
   "cell_type": "code",
   "execution_count": 22,
   "id": "065677ee",
   "metadata": {},
   "outputs": [
    {
     "name": "stdout",
     "output_type": "stream",
     "text": [
      "3 Record Inserted\n"
     ]
    }
   ],
   "source": [
    "import mysql.connector\n",
    "mydb = mysql.connector.connect(\n",
    "    host='localhost',  # Corrected: Only the host address here\n",
    "    port=3306,         # Specify the port separately\n",
    "    user='root',\n",
    "    password='Pnan2ms#1',\n",
    "    database='school',\n",
    "    use_pure= True)\n",
    "mycursor = mydb.cursor()\n",
    "sql = \"Insert into sub_details(sub_id,sub_name) values (%s,%s)\" \n",
    "# even though one value is integer dont use %d use %s itself. Sql automatically type convert the value\n",
    "\n",
    "val = [\n",
    "    (8,\"Chemistry\"),\n",
    "    (9,\"Bology\"),\n",
    "    (10,\"Graphics\")]\n",
    "\n",
    "mycursor.executemany(sql,val)\n",
    "mydb.commit()\n",
    "print(mycursor.rowcount,\"Record Inserted\")"
   ]
  },
  {
   "cell_type": "markdown",
   "id": "73b849b0",
   "metadata": {},
   "source": [
    "Update table using sql query"
   ]
  },
  {
   "cell_type": "code",
   "execution_count": 24,
   "id": "2586d2d1",
   "metadata": {},
   "outputs": [
    {
     "name": "stdout",
     "output_type": "stream",
     "text": [
      "1 Record(s) affected\n"
     ]
    }
   ],
   "source": [
    "sql = \"Update std_details set std_email = 'achu123@gmail.com' where id = 2\"\n",
    "mycursor.execute(sql)\n",
    "mydb.commit()\n",
    "print(mycursor.rowcount,\"Record(s) affected\")"
   ]
  },
  {
   "cell_type": "markdown",
   "id": "5b851935",
   "metadata": {},
   "source": [
    "Update query tp prevent sql injection\n",
    "\n",
    "1) SQL Injection is a type of attack where an attacker is able to manipulate a web application's SQL query by injecting malicious SQL code through user input fields, which can lead to unauthorized access to a database, data modification, or even data destruction.\n",
    "1) In the context of Python, SQL injection occurs when dynamic SQL queries are constructed by concatenating user input directly into a query string, without proper sanitization or validation. This allows attackers to inject harmful SQL code into the query, which can be executed by the database."
   ]
  },
  {
   "cell_type": "code",
   "execution_count": 25,
   "id": "6c485a2a",
   "metadata": {},
   "outputs": [
    {
     "name": "stdout",
     "output_type": "stream",
     "text": [
      "1 Record(s) affected\n"
     ]
    }
   ],
   "source": [
    "sql = \"Update std_details set std_email = %s where id = %s\"\n",
    "val = ('achu@gmail.com',2)\n",
    "mycursor.execute(sql,val)\n",
    "mydb.commit()\n",
    "print(mycursor.rowcount,\"Record(s) affected\")"
   ]
  },
  {
   "cell_type": "markdown",
   "id": "184fbba9",
   "metadata": {},
   "source": [
    "Delete query"
   ]
  },
  {
   "cell_type": "code",
   "execution_count": 30,
   "id": "98b43863",
   "metadata": {},
   "outputs": [
    {
     "name": "stdout",
     "output_type": "stream",
     "text": [
      "0 Record(s) affected\n"
     ]
    }
   ],
   "source": [
    "sql = \"Delete from std_details where id = 7 \"\n",
    "mycursor.execute(sql)\n",
    "mydb.commit()\n",
    "print(mycursor.rowcount,\"Record(s) affected\")"
   ]
  },
  {
   "cell_type": "code",
   "execution_count": 34,
   "id": "5cb6fc62",
   "metadata": {},
   "outputs": [
    {
     "name": "stdout",
     "output_type": "stream",
     "text": [
      "1 Record(s) affected\n"
     ]
    }
   ],
   "source": [
    "sql = \"delete from std_details where id = %s\"\n",
    "val = (5,)\n",
    "mycursor.execute(sql,val)\n",
    "mydb.commit()\n",
    "print(mycursor.rowcount,\"Record(s) affected\")"
   ]
  },
  {
   "cell_type": "markdown",
   "id": "d4f8c8fe",
   "metadata": {},
   "source": [
    "Sometimes error occur like this\n",
    "\n",
    "1) The error you're encountering, ProgrammingError: Could not process parameters: int(5), it must be of type list, tuple or dict, happens because mysql-connector-python expects the parameters passed to execute() to be in the form of a tuple or list, even if you are passing a single value.\n"
   ]
  },
  {
   "cell_type": "markdown",
   "id": "388d62a0",
   "metadata": {},
   "source": [
    "# General Explanation of code"
   ]
  },
  {
   "cell_type": "code",
   "execution_count": null,
   "id": "7de8bddb",
   "metadata": {},
   "outputs": [],
   "source": [
    "import mysql.connector  # or import MySQLdb for mysqlclient\n",
    "\n",
    "# Connect to the MySQL database\n",
    "mydb = mysql.connector.connect(\n",
    "    host=\"localhost\",\n",
    "    user=\"root\",\n",
    "    password=\"yourpassword\",\n",
    "    database=\"yourdatabase\"\n",
    ")\n",
    "\n",
    "# Create a cursor object using the connection\n",
    "mycursor = mydb.cursor()\n",
    "\n",
    "# Example of executing a query\n",
    "mycursor.execute(\"SELECT * FROM your_table_name\")\n",
    "\n",
    "# Fetch all rows from the result of the query\n",
    "results = mycursor.fetchall()\n",
    "\n",
    "# Loop through and print the results\n",
    "for row in results:\n",
    "    print(row)\n",
    "\n",
    "# Close the cursor and connection\n",
    "mycursor.close()\n",
    "mydb.close()\n"
   ]
  },
  {
   "cell_type": "markdown",
   "id": "e23823e2",
   "metadata": {},
   "source": [
    "Creating a connection (mydb): We use mysql.connector.connect() to establish a connection to the database using the host, user, password, and database parameters.\n",
    "\n",
    "Creating a cursor (mycursor): The cursor() method creates a cursor object, which we will use to execute SQL queries.\n",
    "\n",
    "Executing SQL Queries:\n",
    "\n",
    "The execute() method is used to run a SQL query (e.g., SELECT * FROM your_table_name).\n",
    "\n",
    "Fetching Results:\n",
    "\n",
    "We use fetchall() to retrieve all rows from the query result. There are other methods like fetchone() to fetch a single row or fetchmany(size) to fetch a specified number of rows.\n",
    "\n",
    "Closing the Cursor and Connection: After interacting with the database, we close both the cursor and the connection to release resources.\n"
   ]
  },
  {
   "cell_type": "code",
   "execution_count": null,
   "id": "4b16eb56",
   "metadata": {},
   "outputs": [],
   "source": []
  }
 ],
 "metadata": {
  "kernelspec": {
   "display_name": "Python 3 (ipykernel)",
   "language": "python",
   "name": "python3"
  },
  "language_info": {
   "codemirror_mode": {
    "name": "ipython",
    "version": 3
   },
   "file_extension": ".py",
   "mimetype": "text/x-python",
   "name": "python",
   "nbconvert_exporter": "python",
   "pygments_lexer": "ipython3",
   "version": "3.11.5"
  }
 },
 "nbformat": 4,
 "nbformat_minor": 5
}
